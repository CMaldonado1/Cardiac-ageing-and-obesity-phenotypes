{
 "cells": [
  {
   "cell_type": "code",
   "execution_count": null,
   "id": "f9e19e43-bb45-4a6f-b8e6-3c7fbc2ce2f6",
   "metadata": {},
   "outputs": [],
   "source": [
    "import pandas as pd\n",
    "import numpy as np\n",
    "import statsmodels.api as sm\n",
    "from sklearn.preprocessing import LabelEncoder, StandardScaler\n",
    "import matplotlib.pyplot as plt\n",
    "import scipy.stats as stats\n",
    "import statsmodels.api as sm\n",
    "from statsmodels.stats.multicomp import pairwise_tukeyhsd\n",
    "from lifelines import KaplanMeierFitter\n",
    "from lifelines import CoxPHFitter\n",
    "import seaborn as sns\n",
    "import matplotlib.pyplot as plt\n",
    "from joblib import Parallel, delayed\n",
    "from tqdm import tqdm\n",
    "from sklearn.impute import SimpleImputer, KNNImputer"
   ]
  },
  {
   "cell_type": "code",
   "execution_count": null,
   "id": "b573e04b-b176-4fd8-a4be-e2843818503e",
   "metadata": {},
   "outputs": [],
   "source": [
    "ethnic = pd.read_csv('path\\\\f.21000.tab', sep=\"\\t\")\n",
    "ethnic = ethnic[['f.eid', 'f.21000.0.0']]"
   ]
  },
  {
   "cell_type": "code",
   "execution_count": null,
   "id": "026d4adf-9622-459e-9da4-b7b309920e57",
   "metadata": {},
   "outputs": [],
   "source": [
    "perdicardial = pd.read_csv('path\\\\UKB_pericardial_fat_predictions.csv')\n",
    "vat = pd.read_csv('path\\\\f.22407.tab', sep=\"\\t\")\n",
    "asat = pd.read_csv('path\\\\f.22408.tab', sep=\"\\t\")"
   ]
  },
  {
   "cell_type": "code",
   "execution_count": null,
   "id": "de76e728-4c9d-46d2-8ce7-76ba6625db69",
   "metadata": {},
   "outputs": [],
   "source": [
    "bmi = pd.read_csv('path\\\\obesity_bmi_height_weight_cmr_phenotypes_45K.csv')\n",
    "waist = pd.read_csv('path\\\\Obesity\\\\f.48.tab', sep=\"\\t\")\n",
    "hip = pd.read_csv('path\\\\f.49.tab', sep=\"\\t\")"
   ]
  },
  {
   "cell_type": "code",
   "execution_count": null,
   "id": "6988b5fb-c475-41d7-813f-39b7c9bf8038",
   "metadata": {},
   "outputs": [],
   "source": [
    "bmi_ = bmi[['f.eid','BMI']]\n",
    "waist_ = waist[['f.eid', 'f.48.2.0']]\n",
    "hip_ = hip[['f.eid', 'f.49.2.0']]\n",
    "\n",
    "bmi_waist = bmi_.merge(waist_)\n",
    "bmi_waist_hip = bmi_waist.merge(hip_)\n",
    "\n",
    "bmi_waist_hip['waist_hip_ratio'] = bmi_waist_hip['f.48.2.0']/bmi_waist_hip['f.49.2.0']"
   ]
  },
  {
   "cell_type": "code",
   "execution_count": null,
   "id": "9760e667-998d-4209-9071-d58dfb3580ac",
   "metadata": {},
   "outputs": [],
   "source": [
    "p = perdicardial.merge(vat, on='f.eid')\n",
    "pp = p.merge(asat, on='f.eid')\n",
    "ppp = pp.merge(bmi_waist_hip, on='f.eid')"
   ]
  },
  {
   "cell_type": "code",
   "execution_count": null,
   "id": "d051058d-84e7-4db7-8c81-53603b07a3a2",
   "metadata": {},
   "outputs": [],
   "source": [
    "ppp['pericardial'] = ppp['meanArea (cm2)']\n",
    "ppp['VAT'] = ppp['f.22407.2.0']\n",
    "ppp['ASAT'] = ppp['f.22408.2.0']\n",
    "ppp['waist'] = ppp['f.48.2.0']\n",
    "ppp['hip'] = ppp['f.49.2.0']"
   ]
  },
  {
   "cell_type": "code",
   "execution_count": null,
   "id": "da5fb367-341a-4ec7-a448-5fc76877a90b",
   "metadata": {},
   "outputs": [],
   "source": [
    "ppp = ppp.drop(columns=['Unnamed: 0', 'date', 'predicted DSC', 'stdArea (cm2)', 'f.22407.3.0', 'f.22408.3.0', 'f.22407.2.0', 'f.22408.2.0', 'f.48.2.0', 'f.49.2.0', 'meanArea (cm2)'])\n",
    "ppp = ppp.sort_values(by='f.eid').reset_index(drop=True)"
   ]
  },
  {
   "cell_type": "code",
   "execution_count": null,
   "id": "9873fa72-294c-468b-b2ed-7b6d903aa698",
   "metadata": {},
   "outputs": [],
   "source": [
    "ids_after_cvd = pd.read_csv('path/ids_cvd_after_image_taken.csv')\n",
    "covariates = pd.read_csv('path/ukb_covariates_34K.csv')\n",
    "delta_female = pd.read_csv('path/delta_heart_female.csv')\n",
    "delta_male = pd.read_csv('path/delta_heart_male.csv')\n",
    "date_assit = pd.read_csv('path\\\\f.53.tab', sep=\"\\t\")"
   ]
  },
  {
   "cell_type": "code",
   "execution_count": null,
   "id": "2f13df0c-a86a-4509-a390-08eb9c94752b",
   "metadata": {},
   "outputs": [],
   "source": [
    "cmr_phenotypes_34496 = pd.read_csv('path\\\\cmr_phenotypes_34496.csv')"
   ]
  },
  {
   "cell_type": "code",
   "execution_count": null,
   "id": "0047bb54-1c60-4633-a6b2-5d3d62109563",
   "metadata": {},
   "outputs": [],
   "source": [
    "delta = pd.concat([delta_female, delta_male])\n",
    "delta_cova = delta.merge(covariates, on='f.eid', how='left')\n",
    "delta_cova = delta_cova.merge(ppp, on='f.eid')"
   ]
  },
  {
   "cell_type": "code",
   "execution_count": null,
   "id": "ffc7da99-b6a2-4112-adeb-b1dea77cd443",
   "metadata": {},
   "outputs": [],
   "source": [
    "delta_cova['cvd'] = delta_cova['f.eid'].isin(ids_after_cvd['f.eid']).astype(int)"
   ]
  },
  {
   "cell_type": "code",
   "execution_count": null,
   "id": "ce79d90a-dbfa-4d1f-bd42-26fe26cebc00",
   "metadata": {},
   "outputs": [],
   "source": [
    "delta_dates_cvd = delta_cova.merge(ids_after_cvd, on='f.eid', how='left')"
   ]
  },
  {
   "cell_type": "code",
   "execution_count": null,
   "id": "db9327a7-ad30-47aa-84b2-bb3ac873b1ca",
   "metadata": {},
   "outputs": [],
   "source": [
    "delta_dates_cvd = delta_dates_cvd.merge(date_assit[['f.eid', 'f.53.2.0']], on='f.eid')"
   ]
  },
  {
   "cell_type": "code",
   "execution_count": null,
   "id": "4c367917-ed92-4dc6-b972-cc7403485a3a",
   "metadata": {},
   "outputs": [],
   "source": [
    "date_columns = ['event_date', 'f.42008.0.0', 'f.42010.0.0', 'f.42006.0.0', 'f.42000.0.0']\n",
    "delta_dates_cvd[date_columns] = delta_dates_cvd[date_columns].apply(pd.to_datetime, errors='coerce')\n",
    "delta_dates_cvd['date_event'] = delta_dates_cvd[date_columns].min(axis=1)\n",
    "delta_dates_cvd['f.53.2.0'] = delta_dates_cvd['f.53.2.0_y'].astype(str)\n",
    "delta_dates_cvd['f.53.2.0'] = delta_dates_cvd['f.53.2.0_y'].str.extract(r'(\\d{4}-\\d{2}-\\d{2})')[0]\n",
    "delta_dates_cvd['date_event'] = delta_dates_cvd['date_event'].replace(np.nan,'31-10-2022')"
   ]
  },
  {
   "cell_type": "code",
   "execution_count": null,
   "id": "239e71c4-cd65-4e69-9f8b-a147746e7663",
   "metadata": {},
   "outputs": [],
   "source": [
    "delta_dates_cvd['date_event'] = pd.to_datetime(delta_dates_cvd['date_event'], errors='coerce')\n",
    "delta_dates_cvd['f.53.2.0'] = pd.to_datetime(delta_dates_cvd['f.53.2.0'], errors='coerce')"
   ]
  },
  {
   "cell_type": "code",
   "execution_count": null,
   "id": "35d13e88-e762-4c3e-82f7-ac14794553fa",
   "metadata": {},
   "outputs": [],
   "source": [
    "delta_dates_cvd[\"time_to_event\"] = (delta_dates_cvd[\"date_event\"] - delta_dates_cvd[\"f.53.2.0\"]).dt.days"
   ]
  },
  {
   "cell_type": "code",
   "execution_count": null,
   "id": "2fbc22db-76dc-4f22-bb0e-6f0739ec4518",
   "metadata": {},
   "outputs": [],
   "source": [
    "delta_dates_cvd['age'] = delta_dates_cvd['age_at_recruitment_visit2_x']"
   ]
  },
  {
   "cell_type": "code",
   "execution_count": null,
   "id": "3fa315be-9fdc-4392-ae97-7658db22c7fe",
   "metadata": {},
   "outputs": [],
   "source": [
    "delta_dates_cvd = delta_dates_cvd.sort_values(by='f.eid').reset_index(drop=True)"
   ]
  },
  {
   "cell_type": "code",
   "execution_count": null,
   "id": "9bb3eaa8-253a-4ad6-b6e7-cfdce4500c00",
   "metadata": {},
   "outputs": [],
   "source": [
    "data = delta_dates_cvd[['f.eid', 'delta', 'cvd', 'time_to_event', 'age', 'sex', 'smoking_status', 'ethnicity', 'physical_moderate']]"
   ]
  },
  {
   "cell_type": "code",
   "execution_count": null,
   "id": "383f3c64-bdeb-4ca0-8462-3bd48b4585e5",
   "metadata": {},
   "outputs": [],
   "source": [
    "data['cvd'].value_counts()"
   ]
  },
  {
   "cell_type": "code",
   "execution_count": null,
   "id": "08d9fded-1436-45aa-b182-90790e460baf",
   "metadata": {},
   "outputs": [],
   "source": [
    "data = data.merge(ppp, on='f.eid')"
   ]
  },
  {
   "cell_type": "code",
   "execution_count": null,
   "id": "7a09b09b-41e6-4074-9ac7-4e5b2f0faae5",
   "metadata": {},
   "outputs": [],
   "source": [
    "data['smoking_status'].value_counts()"
   ]
  },
  {
   "cell_type": "code",
   "execution_count": null,
   "id": "256c64ce-4034-47da-9f2e-9ce0e27dfee0",
   "metadata": {},
   "outputs": [],
   "source": [
    "data['ethnicity'].value_counts()"
   ]
  },
  {
   "cell_type": "code",
   "execution_count": null,
   "id": "05282690-3e65-4e5c-9719-e4efa1ac64dc",
   "metadata": {},
   "outputs": [],
   "source": [
    "data['ethnicity'] = data['ethnicity'].replace('unknown', np.nan)"
   ]
  },
  {
   "cell_type": "code",
   "execution_count": null,
   "id": "2ed24198-c730-44a8-9759-bcb2bdebbba4",
   "metadata": {},
   "outputs": [],
   "source": [
    "data['ethnicity'].value_counts()"
   ]
  },
  {
   "cell_type": "code",
   "execution_count": null,
   "id": "d832dcb6-699d-46e0-91d9-f3876aa28534",
   "metadata": {},
   "outputs": [],
   "source": [
    "mask_nan = data['ethnicity'].isna()\n",
    "encoder = LabelEncoder()\n",
    "data.loc[~mask_nan, 'ethnicity'] = encoder.fit_transform(data.loc[~mask_nan, 'ethnicity'])\n",
    "data.loc[mask_nan, 'ethnicity'] = np.nan"
   ]
  },
  {
   "cell_type": "code",
   "execution_count": null,
   "id": "b59f6d8f-d0ae-4161-a727-7c6e1462be6f",
   "metadata": {},
   "outputs": [],
   "source": [
    "encoder = LabelEncoder()\n",
    "#data['ethnicity'] = encoder.fit_transform(data['ethnicity'])\n",
    "data['smoking_status'] = encoder.fit_transform(data['smoking_status'])"
   ]
  },
  {
   "cell_type": "code",
   "execution_count": null,
   "id": "d2e5015a-e5b1-41d1-9226-0de8ca1adf57",
   "metadata": {},
   "outputs": [],
   "source": [
    "data['ethnicity'].value_counts()"
   ]
  },
  {
   "cell_type": "code",
   "execution_count": null,
   "id": "c5f6d738-d29b-4ad5-b2ad-9f9c07570c79",
   "metadata": {},
   "outputs": [],
   "source": [
    "data['smoking_status'].value_counts()"
   ]
  },
  {
   "cell_type": "code",
   "execution_count": null,
   "id": "da076290-8991-42fe-be8e-855c515490ef",
   "metadata": {},
   "outputs": [],
   "source": [
    "data['smoking_status'] = data['smoking_status'].replace(4, np.nan)"
   ]
  },
  {
   "cell_type": "code",
   "execution_count": null,
   "id": "4f8645d8-97ee-4bad-be84-4f7e13216bb8",
   "metadata": {},
   "outputs": [],
   "source": [
    "#data['ethnicity'] = data['ethnicity'].replace(5, np.nan)"
   ]
  },
  {
   "cell_type": "code",
   "execution_count": null,
   "id": "c6dc55c1-094e-46a9-8310-acecf9fbe295",
   "metadata": {},
   "outputs": [],
   "source": [
    "data['ethnicity'].value_counts()"
   ]
  },
  {
   "cell_type": "code",
   "execution_count": null,
   "id": "a80a1776-9799-433b-b70e-28a5615516e8",
   "metadata": {},
   "outputs": [],
   "source": [
    "data['smoking_status'].value_counts()"
   ]
  },
  {
   "cell_type": "code",
   "execution_count": null,
   "id": "87683605-18aa-4260-b8d5-d97a1cac1bdf",
   "metadata": {},
   "outputs": [],
   "source": [
    "sex = pd.read_csv('C:\\\\Users\\\\Cynthia Maldonado\\\\OneDrive - Queen Mary, University of London\\\\Biological Aging\\\\data_ukbb\\\\CVD\\\\sex_34496.csv')\n",
    "data = data.drop(columns='sex')\n",
    "data = sex.merge(data, on='f.eid', how='left')"
   ]
  },
  {
   "cell_type": "code",
   "execution_count": null,
   "id": "725fb02a-67ad-47a4-bd00-e0f3020cb411",
   "metadata": {},
   "outputs": [],
   "source": [
    "data['sex'].value_counts()"
   ]
  },
  {
   "cell_type": "code",
   "execution_count": null,
   "id": "70ece3cb-6f3d-4d19-9f06-c74ef2829608",
   "metadata": {},
   "outputs": [],
   "source": [
    "data.isna().sum()"
   ]
  },
  {
   "cell_type": "code",
   "execution_count": null,
   "id": "7875eb4e-fda8-42f5-a626-0ca3ddd79c64",
   "metadata": {},
   "outputs": [],
   "source": [
    "imp_cat = SimpleImputer(strategy='most_frequent')\n",
    "imp_num = KNNImputer(n_neighbors=10)"
   ]
  },
  {
   "cell_type": "code",
   "execution_count": null,
   "id": "16387436-c71c-489f-94ae-eea46e6a3c8e",
   "metadata": {},
   "outputs": [],
   "source": [
    "cat_cols = ['ethnicity', 'smoking_status']\n",
    "num_cols = [col for col in data.columns if col not in cat_cols]\n",
    "\n",
    "data_cat_imputed = pd.DataFrame(imp_cat.fit_transform(data[cat_cols]), columns=cat_cols)\n",
    "\n",
    "data_num_imputed = pd.DataFrame(imp_num.fit_transform(data[num_cols]), columns=num_cols)\n",
    "data_imputed = pd.concat([data_num_imputed, data_cat_imputed], axis=1)\n",
    "survival_data= data_imputed[data.columns]"
   ]
  },
  {
   "cell_type": "code",
   "execution_count": null,
   "id": "446497b8-03b9-4ad0-8713-8f31380a2bc8",
   "metadata": {},
   "outputs": [],
   "source": [
    "survival_data['ethnicity'].value_counts()"
   ]
  },
  {
   "cell_type": "code",
   "execution_count": null,
   "id": "d20c2c9f-7101-47fa-a401-5ce248f5f767",
   "metadata": {},
   "outputs": [],
   "source": [
    "survival_data['smoking_status'].value_counts()"
   ]
  },
  {
   "cell_type": "code",
   "execution_count": null,
   "id": "79606146-4aaa-4829-9447-e42d7ce07c0d",
   "metadata": {},
   "outputs": [],
   "source": [
    "survival_data['cvd'].value_counts()"
   ]
  },
  {
   "cell_type": "code",
   "execution_count": null,
   "id": "62eefa9d-f338-4acb-91c3-70f17bbb1784",
   "metadata": {},
   "outputs": [],
   "source": [
    "scaler = StandardScaler()"
   ]
  },
  {
   "cell_type": "code",
   "execution_count": null,
   "id": "6bacb4bb-dd58-4845-9100-02290fddbdc4",
   "metadata": {},
   "outputs": [],
   "source": [
    "survival_data.isna().sum()"
   ]
  },
  {
   "cell_type": "code",
   "execution_count": null,
   "id": "e8e4942f-8691-4fcc-b641-1967b6026964",
   "metadata": {},
   "outputs": [],
   "source": [
    "cols_to_scale = ['VAT', 'ASAT', 'pericardial', 'BMI', 'waist', 'hip', 'delta', 'age', 'sex', 'smoking_status', 'ethnicity', 'physical_moderate'] \n",
    "survival_data[cols_to_scale] = scaler.fit_transform(survival_data[cols_to_scale])\n",
    "columns_obesity = ['VAT', 'ASAT', 'pericardial', 'BMI', 'waist', 'hip', 'delta']\n",
    "covariates = [ 'sex', 'physical_moderate', 'ethnicity', 'smoking_status' ] #'ethnicity', 'physical_moderate', 'sex']"
   ]
  },
  {
   "cell_type": "code",
   "execution_count": null,
   "id": "12ce2781-b584-41b5-aa9f-a016c0d24af4",
   "metadata": {},
   "outputs": [],
   "source": [
    "results_cox = []\n",
    "for i in columns_obesity:\n",
    "    model = CoxPHFitter()\n",
    "    # Include both the obesity measure and covariates in the analysis\n",
    "    survival_data_1 = survival_data[[i] + covariates + ['time_to_event', 'cvd']]\n",
    "#    print(survival_data_1.columns)\n",
    "    model.fit(survival_data_1, 'time_to_event', event_col='cvd')\n",
    "    summary = model.summary\n",
    "    beta = summary.loc[i, 'coef']\n",
    "    HR = summary.loc[i, 'exp(coef)']\n",
    "    CI_lower = summary.loc[i, 'exp(coef) lower 95%']\n",
    "    CI_upper = summary.loc[i, 'exp(coef) upper 95%']\n",
    "    p_value = summary.loc[i, 'p']\n",
    "    \n",
    "    # Append to list\n",
    "    results_cox.append([i, beta, HR, CI_lower, CI_upper, p_value])\n",
    "    \n",
    "df_results_cox = pd.DataFrame(results_cox, columns=['Variable', 'Beta', 'HR', 'CI_lower', 'CI_upper', 'p_value'])"
   ]
  },
  {
   "cell_type": "code",
   "execution_count": null,
   "id": "767f3f7b-7a51-4bda-b135-2c6aec9ce0a5",
   "metadata": {},
   "outputs": [],
   "source": [
    "df_results_cox"
   ]
  },
  {
   "cell_type": "markdown",
   "id": "0bcd1c2f-8cce-41d1-a255-5da72123060d",
   "metadata": {},
   "source": [
    "# Mediation"
   ]
  },
  {
   "cell_type": "code",
   "execution_count": null,
   "id": "89165c19-2568-4488-8170-aaf8abf118d4",
   "metadata": {},
   "outputs": [],
   "source": [
    "survival_data['time_to_event_yrs'] = survival_data['time_to_event'] / 365.25"
   ]
  },
  {
   "cell_type": "code",
   "execution_count": null,
   "id": "eabbe6d4-d631-47b2-89d7-316c4b41a81b",
   "metadata": {},
   "outputs": [],
   "source": [
    "def mediation_analysis(\n",
    "    data, \n",
    "    exposures,  # List of exposure variables (e.g., ['BMI', 'VAT', 'waist_hip'])\n",
    "    mediator,   # Name of mediator (e.g., 'cardiac_delta')\n",
    "    outcome,    # Name of outcome (e.g., 'CVD_status')\n",
    "    time_to_event,  # Name of time-to-event column (e.g., 'time_to_CVD_yrs')\n",
    "    covariates, # List of covariates (e.g., ['age', 'sex', 'smoking'])\n",
    "    n_bootstrap=1000,\n",
    "    n_jobs=-1   # Use all CPU cores\n",
    "):\n",
    "    \"\"\"\n",
    "    Perform mediation analysis for multiple exposures using:\n",
    "    - Linear regression for the mediator (M ~ X + covariates)\n",
    "    - Cox PH model for the outcome (Y ~ X + M + covariates)\n",
    "    - Bootstrapping to estimate indirect effects (a*b) and 95% CIs.\n",
    "    \n",
    "    Returns a DataFrame with direct, indirect, and total effects for each exposure.\n",
    "    \"\"\"\n",
    "    results = []\n",
    "    \n",
    "    for exposure in exposures:\n",
    "        # Step 1: Fit mediator model (M ~ X + covariates)\n",
    "        mediator_formula = f\"{mediator} ~ {exposure} + \" + \" + \".join(covariates)\n",
    "        mediator_model = sm.OLS.from_formula(mediator_formula, data=data).fit()\n",
    "        a = mediator_model.params[exposure]\n",
    "        \n",
    "        # Step 2: Fit outcome model (Y ~ X + M + covariates)\n",
    "        cph = CoxPHFitter()\n",
    "        outcome_data = data[[time_to_event, outcome, exposure, mediator] + covariates]\n",
    "        cph.fit(outcome_data, duration_col=time_to_event, event_col=outcome)\n",
    "        b_beta = cph.params_[mediator]           # log(HR) for mediator\n",
    "        b_HR = np.exp(b_beta)\n",
    "        c_prime = cph.params_[exposure]         # direct effect in log(HR)\n",
    "        total_effect = a * b_beta + c_prime     # total effect in log(HR)\n",
    "        indirect_effect = a * b_beta            # indirect effect in log(HR)\n",
    "        \n",
    "        # Step 3: Bootstrap indirect effect (a*b)\n",
    "        def bootstrap_sample(data):\n",
    "            sample = data.sample(n=len(data), replace=True)\n",
    "            # Mediator model\n",
    "            med_model = sm.OLS.from_formula(mediator_formula, data=sample).fit()\n",
    "            a_boot = med_model.params[exposure]\n",
    "            # Outcome model\n",
    "            cph_boot = CoxPHFitter()\n",
    "            cph_boot.fit(\n",
    "                sample[[time_to_event, outcome, exposure, mediator] + covariates],\n",
    "                duration_col=time_to_event,\n",
    "                event_col=outcome\n",
    "            )\n",
    "            b_boot = cph_boot.params_[mediator]\n",
    "            return a_boot * b_boot\n",
    "        \n",
    "        # Parallel bootstrapping\n",
    "        bootstrap_effects = Parallel(n_jobs=n_jobs)(\n",
    "            delayed(bootstrap_sample)(data) for _ in tqdm(range(n_bootstrap)))\n",
    "        bootstrap_effects = np.array(bootstrap_effects)\n",
    "        \n",
    "        # Calculate CIs and proportion mediated\n",
    "        lower_ci = np.percentile(bootstrap_effects, 2.5)\n",
    "        upper_ci = np.percentile(bootstrap_effects, 97.5)\n",
    "        proportion_mediated = indirect_effect / total_effect\n",
    "\n",
    "         # Convert log(HR) to HR where applicable\n",
    "        total_HR = np.exp(total_effect)\n",
    "        direct_HR = np.exp(c_prime)\n",
    "        indirect_HR = np.exp(indirect_effect)\n",
    "        lower_HR = np.exp(lower_ci)\n",
    "        upper_HR = np.exp(upper_ci)       \n",
    "        \n",
    "        # Store results\n",
    "        results.append({\n",
    "            'Exposure': exposure,\n",
    "            'Total_beta': total_effect,\n",
    "            'Total_HR': total_HR,\n",
    "            'Direct_beta': c_prime,\n",
    "            'Direct_HR': direct_HR,\n",
    "            'Indirect_beta': indirect_effect,\n",
    "            'Indirect_HR': indirect_HR,\n",
    "            'a (X->M)': a,\n",
    "            'b_beta (M->Y)': b_beta,\n",
    "            'b_HR (M->Y)': b_HR,\n",
    "            'Proportion_Mediated': proportion_mediated,\n",
    "            'Indirect_95%CI_beta_lower': lower_ci,\n",
    "            'Indirect_95%CI_beta_upper': upper_ci,\n",
    "            'Indirect_95%CI_HR_lower': lower_HR,\n",
    "            'Indirect_95%CI_HR_upper': upper_HR\n",
    "        })\n",
    "\n",
    "    return pd.DataFrame(results)"
   ]
  },
  {
   "cell_type": "code",
   "execution_count": null,
   "id": "fa36d34d-4bc8-46ae-a6b1-7fa4d21460dc",
   "metadata": {},
   "outputs": [],
   "source": [
    "if __name__ == \"__main__\":\n",
    "    # Define variables\n",
    "    exposures = ['BMI', 'VAT', 'pericardial', 'ASAT', 'waist', 'hip']  # Obesity measures\n",
    "    mediator = 'delta'                # Mediator\n",
    "    outcome = 'cvd'                    # Binary outcome\n",
    "    time_to_event = 'time_to_event_yrs'         # Follow-up time in years\n",
    "    covariates = ['sex', 'smoking_status', 'ethnicity', 'physical_moderate']    # Adjust for these\n",
    "    \n",
    "    # Run mediation analysis\n",
    "    results = mediation_analysis(\n",
    "        data=survival_data,\n",
    "        exposures=exposures,\n",
    "        mediator=mediator,\n",
    "        outcome=outcome,\n",
    "        time_to_event=time_to_event,\n",
    "        covariates=covariates,\n",
    "        n_bootstrap=1000  # Increase for final analysis\n",
    "    )"
   ]
  },
  {
   "cell_type": "code",
   "execution_count": null,
   "id": "7ba7dafb-ebff-4b5c-8e2f-6a5bb84501a9",
   "metadata": {},
   "outputs": [],
   "source": [
    "results"
   ]
  },
  {
   "cell_type": "code",
   "execution_count": null,
   "id": "081b6f4b-4c48-4da9-a5d8-13b4b3678e5d",
   "metadata": {},
   "outputs": [],
   "source": []
  }
 ],
 "metadata": {
  "kernelspec": {
   "display_name": "Python 3 (ipykernel)",
   "language": "python",
   "name": "python3"
  },
  "language_info": {
   "codemirror_mode": {
    "name": "ipython",
    "version": 3
   },
   "file_extension": ".py",
   "mimetype": "text/x-python",
   "name": "python",
   "nbconvert_exporter": "python",
   "pygments_lexer": "ipython3",
   "version": "3.12.7"
  }
 },
 "nbformat": 4,
 "nbformat_minor": 5
}

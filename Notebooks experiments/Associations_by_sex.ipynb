{
 "cells": [
  {
   "cell_type": "code",
   "execution_count": null,
   "id": "4b16d0b2-2911-4792-8882-fc43c4aee321",
   "metadata": {},
   "outputs": [],
   "source": [
    "import pandas as pd\n",
    "from sklearn.preprocessing import StandardScaler, LabelEncoder\n",
    "import matplotlib.pyplot as plt\n",
    "from scipy.stats import pearsonr\n",
    "import scipy.stats as stats\n",
    "import statsmodels.api as sm\n",
    "import statsmodels.formula.api as smf\n",
    "from statsmodels.formula.api import ols\n",
    "from sklearn.impute import KNNImputer\n",
    "import seaborn as sns"
   ]
  },
  {
   "cell_type": "code",
   "execution_count": null,
   "id": "91061924-abeb-40a8-baed-3aca30fcff3a",
   "metadata": {},
   "outputs": [],
   "source": [
    "delta_female = pd.read_csv('path\\\\delta_heart_female.csv')\n",
    "delta_male = pd.read_csv('path\\\\delta_heart_male.csv')"
   ]
  },
  {
   "cell_type": "code",
   "execution_count": null,
   "id": "09d1e1b5-04db-4247-adbe-e34906fefd9f",
   "metadata": {},
   "outputs": [],
   "source": [
    "delta_female"
   ]
  },
  {
   "cell_type": "code",
   "execution_count": null,
   "id": "5bd2e8c8-d2a1-4d4d-a879-f4038a64a180",
   "metadata": {},
   "outputs": [],
   "source": [
    "obesity_qc = pd.read_csv('path\\\\obesity_measures.csv')"
   ]
  },
  {
   "cell_type": "code",
   "execution_count": null,
   "id": "83977647-ac67-4c68-bc07-08ae0e0fc9e8",
   "metadata": {},
   "outputs": [],
   "source": [
    "covariates = pd.read_csv('path\\\\ukb_covariates_34K.csv')"
   ]
  },
  {
   "cell_type": "code",
   "execution_count": null,
   "id": "4a2816e1-9e81-44c5-89df-cc592d962c83",
   "metadata": {},
   "outputs": [],
   "source": [
    "ids_after_cvd = pd.read_csv('path/CMR_phenotypes_after_cmr_taken_36K.csv')\n",
    "date_assit = pd.read_csv('path\\\\f.53.tab', sep=\"\\t\")"
   ]
  },
  {
   "cell_type": "code",
   "execution_count": null,
   "id": "913d9fef-02c6-4eea-a0cf-3748f0aa0f95",
   "metadata": {},
   "outputs": [],
   "source": [
    "bmi = pd.read_csv('path\\\\obesity_bmi_height_weight_cmr_phenotypes_45K.csv')\n",
    "waist = pd.read_csv('path\\\\f.48.tab', sep=\"\\t\")\n",
    "hip = pd.read_csv('path\\\\f.49.tab', sep=\"\\t\")"
   ]
  },
  {
   "cell_type": "code",
   "execution_count": null,
   "id": "6a3b4335-192c-4b9f-b8eb-70c12699c511",
   "metadata": {},
   "outputs": [],
   "source": [
    "bmi_ = bmi[['f.eid','BMI']]\n",
    "waist_ = waist[['f.eid', 'f.48.2.0']]\n",
    "hip_ = hip[['f.eid', 'f.49.2.0']]\n",
    "\n",
    "bmi_waist = bmi_.merge(waist_)\n",
    "bmi_waist_hip = bmi_waist.merge(hip_)\n",
    "\n",
    "bmi_waist_hip['waist_hip_ratio'] = bmi_waist_hip['f.48.2.0']/bmi_waist_hip['f.49.2.0']"
   ]
  },
  {
   "cell_type": "code",
   "execution_count": null,
   "id": "7d800d06-e6ac-4964-82bf-88e1b001e2ee",
   "metadata": {},
   "outputs": [],
   "source": [
    "scaler = StandardScaler()\n",
    "encoder = LabelEncoder()"
   ]
  },
  {
   "cell_type": "code",
   "execution_count": null,
   "id": "c38810f8-3880-4891-92c8-88bc1b7df3d9",
   "metadata": {},
   "outputs": [],
   "source": [
    "smoking_status_map = {\n",
    "    'Never': 0,\n",
    "    'Previous': 1,\n",
    "    'Current': 2,\n",
    "    'Prefer not to answer': 3\n",
    "}"
   ]
  },
  {
   "cell_type": "markdown",
   "id": "62e90171-d4f3-4fdc-ba45-86cab94bd2ff",
   "metadata": {},
   "source": [
    "# Multiregression lineal - Female"
   ]
  },
  {
   "cell_type": "markdown",
   "id": "f0eaa97b-aaf6-4390-9cdc-712294bd3ef4",
   "metadata": {},
   "source": [
    "## Create dataframes"
   ]
  },
  {
   "cell_type": "code",
   "execution_count": null,
   "id": "1308e392-d8d0-4237-8894-f2e96d1867a0",
   "metadata": {},
   "outputs": [],
   "source": [
    "merge_fat_delta = delta_female.merge(obesity_qc, on='f.eid', how='left')"
   ]
  },
  {
   "cell_type": "code",
   "execution_count": null,
   "id": "e28ba230-f85c-4293-b5f0-6314e2baa6d0",
   "metadata": {},
   "outputs": [],
   "source": [
    "merge_fat_delta "
   ]
  },
  {
   "cell_type": "code",
   "execution_count": null,
   "id": "5aa11f95-ee32-4e09-98b9-a7ea6a3da252",
   "metadata": {},
   "outputs": [],
   "source": [
    "female = covariates[covariates['sex'] == 0].reset_index(drop=True)"
   ]
  },
  {
   "cell_type": "code",
   "execution_count": null,
   "id": "f2faacdb-12ff-47b7-9725-1f75facb7350",
   "metadata": {},
   "outputs": [],
   "source": [
    "female['smoking_status_numeric'] = female['smoking_status'].map(smoking_status_map)\n",
    "female['age'] = scaler.fit_transform(female[['age_at_recruitment_visit2']])\n",
    "female['ethnicity'] = encoder.fit_transform(female['ethnicity'])"
   ]
  },
  {
   "cell_type": "code",
   "execution_count": null,
   "id": "42656736-5392-49bc-a6c0-1e00110e3220",
   "metadata": {},
   "outputs": [],
   "source": [
    "female"
   ]
  },
  {
   "cell_type": "code",
   "execution_count": null,
   "id": "bc37bca7-37a1-4f72-9027-860493b45efb",
   "metadata": {},
   "outputs": [],
   "source": [
    "ml_delta_test_cova = female[['f.eid', 'obesity_groups', 'drinking_status','physical_moderate', 'ethnicity', 'smoking_status_numeric']]"
   ]
  },
  {
   "cell_type": "code",
   "execution_count": null,
   "id": "60428d04-b868-46d3-92f1-7800fad1a58e",
   "metadata": {},
   "outputs": [],
   "source": [
    "ml_delta_test = merge_fat_delta.merge(ml_delta_test_cova, on='f.eid') #, how='left')"
   ]
  },
  {
   "cell_type": "code",
   "execution_count": null,
   "id": "24cf9222-0b83-4c8d-90c8-29e2aeb90674",
   "metadata": {},
   "outputs": [],
   "source": [
    "ml_delta_test"
   ]
  },
  {
   "cell_type": "code",
   "execution_count": null,
   "id": "328a1872-15a9-4770-b6de-f14b3f77e72e",
   "metadata": {},
   "outputs": [],
   "source": [
    "ml_delta_test = ml_delta_test.merge(bmi_waist_hip)"
   ]
  },
  {
   "cell_type": "code",
   "execution_count": null,
   "id": "f2f6107e-01e3-485e-9c08-d185411d4060",
   "metadata": {},
   "outputs": [],
   "source": [
    "ml_delta_test['VAT'] = ml_delta_test['f.22407.2.0']\n",
    "ml_delta_test['ASAT'] = ml_delta_test['f.22408.2.0']\n",
    "ml_delta_test['Pericardial'] = ml_delta_test['meanArea (cm2)']\n",
    "ml_delta_test['Waist'] = ml_delta_test['f.48.2.0']\n",
    "ml_delta_test['Hip'] = ml_delta_test['f.49.2.0']\n",
    "ml_delta_test['WHR'] = ml_delta_test['waist_hip_ratio']"
   ]
  },
  {
   "cell_type": "code",
   "execution_count": null,
   "id": "a5519702-749a-4c51-8a8a-0f00fb63fb3a",
   "metadata": {},
   "outputs": [],
   "source": [
    "ml_delta_test['obesity_groups'] = ml_delta_test['obesity_groups_x']"
   ]
  },
  {
   "cell_type": "code",
   "execution_count": null,
   "id": "7bc4ab2f-8fc8-401e-ac76-247d54be01b8",
   "metadata": {},
   "outputs": [],
   "source": [
    "ml_delta_test.columns"
   ]
  },
  {
   "cell_type": "code",
   "execution_count": null,
   "id": "371b3184-f97b-4e90-8190-6364fe835fb0",
   "metadata": {},
   "outputs": [],
   "source": [
    "ml_delta_test = ml_delta_test.drop(columns=['f.22407.2.0', 'f.22408.2.0', 'age_at_recruitment_visit2_x', 'f.48.2.0', 'f.49.2.0', 'obesity_groups_x', 'obesity_groups_y', 'predicted DSC', 'waist_hip_ratio'])"
   ]
  },
  {
   "cell_type": "code",
   "execution_count": null,
   "id": "a3616c71-0d16-4311-95a2-a30f4be007f7",
   "metadata": {},
   "outputs": [],
   "source": [
    "ml_delta_test"
   ]
  },
  {
   "cell_type": "code",
   "execution_count": null,
   "id": "992e14c7-0069-41e9-b67d-a2664ea3b5ad",
   "metadata": {},
   "outputs": [],
   "source": [
    "ml_delta_test.isna().sum()"
   ]
  },
  {
   "cell_type": "code",
   "execution_count": null,
   "id": "4cb4c901-2f71-4442-b4bf-4f9fae36540a",
   "metadata": {},
   "outputs": [],
   "source": [
    "ml_delta_test.columns[:-1]"
   ]
  },
  {
   "cell_type": "code",
   "execution_count": null,
   "id": "ad4bc794-f4b0-4319-b179-ea4f63a91525",
   "metadata": {},
   "outputs": [],
   "source": [
    "imputer = KNNImputer(n_neighbors=10)\n",
    "ml_delta_test_imputed = imputer.fit_transform(ml_delta_test.drop(columns='obesity_groups'))"
   ]
  },
  {
   "cell_type": "code",
   "execution_count": null,
   "id": "6ce09795-0e8e-4662-b1e8-f25cd57991ca",
   "metadata": {},
   "outputs": [],
   "source": [
    "ml_delta_test_imputed = pd.DataFrame(ml_delta_test_imputed, columns=ml_delta_test.columns[:-1])"
   ]
  },
  {
   "cell_type": "code",
   "execution_count": null,
   "id": "ff0730f6-091b-4e9a-82c7-606880bcdbc2",
   "metadata": {},
   "outputs": [],
   "source": [
    "delta_test_association = ml_delta_test_imputed.merge(ml_delta_test[['obesity_groups']], left_index=True, right_index=True)"
   ]
  },
  {
   "cell_type": "markdown",
   "id": "5dc71552-524f-40b4-96de-2d6d19e29151",
   "metadata": {},
   "source": [
    "## Results of association"
   ]
  },
  {
   "cell_type": "code",
   "execution_count": null,
   "id": "d32db259-7f65-4732-9850-71a132789bca",
   "metadata": {},
   "outputs": [],
   "source": [
    "variables_interes = [\"VAT\", \"ASAT\", \"Pericardial\", \"BMI\", \"Waist\", \"Hip\", \"WHR\"]\n",
    "resultados_lista = []\n",
    "\n",
    "# Iterar sobre cada grupo de obesidad\n",
    "for group in delta_test_association[\"obesity_groups\"].unique():\n",
    "    df_group = delta_test_association[delta_test_association[\"obesity_groups\"] == group].copy()\n",
    "\n",
    "    scaler = StandardScaler()\n",
    "    vars_to_standardize = [\"delta\"] + variables_interes\n",
    "    df_group[vars_to_standardize] = scaler.fit_transform(df_group[vars_to_standardize])\n",
    "\n",
    "    # Iterar sobre cada variable individualmente\n",
    "    for var in variables_interes:\n",
    "        modelo = smf.ols(f\"delta ~ {var} + drinking_status + physical_moderate + ethnicity + smoking_status_numeric\", data=df_group).fit()\n",
    "\n",
    "        resumen = pd.DataFrame({\n",
    "            \"Grupo\": [group],\n",
    "            \"Variable\": [var],\n",
    "            \"Coeficiente\": [modelo.params[var]],\n",
    "            \"Error Estándar\": [modelo.bse[var]],\n",
    "            \"p value\": [modelo.pvalues[var]],\n",
    "            \"IC 2.5%\": [modelo.conf_int().loc[var, 0]],\n",
    "            \"IC 97.5%\": [modelo.conf_int().loc[var, 1]]\n",
    "        })\n",
    "\n",
    "        # Formatear coeficiente con intervalo de confianza\n",
    "        resumen[\"β (95% CI)\"] = resumen.apply(\n",
    "            lambda row: f\"{row['Coeficiente']:.3f} ({row['IC 2.5%']:.3f}, {row['IC 97.5%']:.3f})\", axis=1\n",
    "        )\n",
    "\n",
    "        resultados_lista.append(resumen)\n",
    "\n",
    "resultados_df_all_groups = pd.concat(resultados_lista, ignore_index=True)\n",
    "\n",
    "df_pivot2 = resultados_df_all_groups.pivot_table(\n",
    "    index=\"Grupo\", \n",
    "    columns=\"Variable\", \n",
    "    values=[\"β (95% CI)\", \"p value\"], \n",
    "    aggfunc=\"first\"\n",
    ")\n",
    "\n",
    "df_pivot2.columns = pd.MultiIndex.from_tuples(\n",
    "    [(col[1], \"β (95% CI)\") if col[0] == \"β (95% CI)\" else (col[1], \"p value\") for col in df_pivot2.columns])\n",
    "\n",
    "column_order = [\n",
    "    ('VAT', 'β (95% CI)'), ('VAT', 'p value'),\n",
    "    ('ASAT', 'β (95% CI)'), ('ASAT', 'p value'),\n",
    "    ('Pericardial', 'β (95% CI)'), ('Pericardial', 'p value'),\n",
    "    ('BMI', 'β (95% CI)'), ('BMI', 'p value'),\n",
    "    ('Hip', 'β (95% CI)'), ('Hip', 'p value'),\n",
    "    ('Waist', 'β (95% CI)'), ('Waist', 'p value'),\n",
    "    ('WHR', 'β (95% CI)'), ('WHR', 'p value')\n",
    "]\n",
    "\n",
    "df_pivot2 = df_pivot2[column_order]"
   ]
  },
  {
   "cell_type": "code",
   "execution_count": null,
   "id": "97e3502c-de55-47fe-9af9-0956eff53503",
   "metadata": {},
   "outputs": [],
   "source": [
    "df_pivot2.columns"
   ]
  },
  {
   "cell_type": "code",
   "execution_count": null,
   "id": "7bdadaed-80c0-47fd-a054-dd7eb1f8a9c2",
   "metadata": {},
   "outputs": [],
   "source": [
    "df_pivot2"
   ]
  },
  {
   "cell_type": "code",
   "execution_count": null,
   "id": "36eddf8f-bcfc-44c9-9b5f-158a76df794c",
   "metadata": {},
   "outputs": [],
   "source": [
    "resultados_df_all_groups[\"Significativo\"] = resultados_df_all_groups[\"p value\"] < 0.05\n",
    "\n",
    "# Sort by group and variable for consistent layout\n",
    "df_plot = resultados_df_all_groups.sort_values(by=[\"Grupo\", \"Variable\"]).copy()\n",
    "\n",
    "# Create a unique label per row for plotting (e.g., \"Group1 - VAT\")\n",
    "df_plot[\"Etiqueta\"] = df_plot[\"Grupo\"] + \" - \" + df_plot[\"Variable\"]\n",
    "\n",
    "# Reverse order for top-down plotting\n",
    "df_plot = df_plot[::-1].reset_index(drop=True)\n",
    "\n",
    "# Set figure size\n",
    "plt.figure(figsize=(10, len(df_plot) * 0.4))\n",
    "sns.set(style=\"whitegrid\")\n",
    "\n",
    "# Plot points\n",
    "palette = {True: \"tab:blue\", False: \"red\"}\n",
    "sns.scatterplot(\n",
    "    data=df_plot,\n",
    "    x=\"Coeficiente\",\n",
    "    y=\"Etiqueta\",\n",
    "    hue=\"Significativo\",\n",
    "    palette=palette,\n",
    "    s=70,\n",
    "    legend=False\n",
    ")\n",
    "\n",
    "# Plot confidence intervals\n",
    "for idx, row in df_plot.iterrows():\n",
    "    plt.plot([row[\"IC 2.5%\"], row[\"IC 97.5%\"]], [idx, idx], color=palette[row[\"Significativo\"]], lw=2)\n",
    "\n",
    "# Add vertical line at 0 (null effect)\n",
    "plt.axvline(x=0, color=\"black\", linestyle=\"--\", lw=1)\n",
    "\n",
    "# Labels and title\n",
    "plt.xlabel(\"Standardized β (95% CI)\", fontsize=14)\n",
    "plt.ylabel(\"\")\n",
    "plt.yticks(fontsize=12)\n",
    "plt.title(\"Forest Plot of Standardized Associations by Obesity Group\", fontsize=16)\n",
    "\n",
    "# Improve layout\n",
    "plt.tight_layout()\n",
    "plt.savefig('paths\\\\forest_plot_obesity_groups_female.png', bbox_inches='tight', dpi=300) \n",
    "\n",
    "plt.show()"
   ]
  },
  {
   "cell_type": "code",
   "execution_count": null,
   "id": "1d6a0896-9538-4224-9811-1b29fcb740c6",
   "metadata": {},
   "outputs": [],
   "source": [
    "variables_interes = [\"VAT\", \"ASAT\", \"Pericardial\", \"BMI\", \"Waist\", \"Hip\", \"WHR\"]\n",
    "\n",
    "# Copy and standardize the data\n",
    "df_std = delta_test_association.copy()\n",
    "\n",
    "# Standardize delta and variables of interest\n",
    "scaler = StandardScaler()\n",
    "vars_to_standardize = [\"delta\"] + variables_interes\n",
    "df_std[vars_to_standardize] = scaler.fit_transform(df_std[vars_to_standardize])\n",
    "\n",
    "# Store results\n",
    "resultados_lista = []\n",
    "\n",
    "# Loop over variables\n",
    "for var in variables_interes:\n",
    "    modelo = smf.ols(\n",
    "        f\"delta ~ {var} + drinking_status + physical_moderate + ethnicity + smoking_status_numeric\", \n",
    "        data=df_std\n",
    "    ).fit()\n",
    "\n",
    "    # Get stats\n",
    "    resumen = pd.DataFrame({\n",
    "        \"Variable\": [var],\n",
    "        \"Coeficiente\": [modelo.params[var]],\n",
    "        \"Error Estándar\": [modelo.bse[var]],\n",
    "        \"p value\": [modelo.pvalues[var]],\n",
    "        \"IC 2.5%\": [modelo.conf_int().loc[var, 0]],\n",
    "        \"IC 97.5%\": [modelo.conf_int().loc[var, 1]]\n",
    "    })\n",
    "\n",
    "    resumen[\"β (95% CI)\"] = resumen.apply(\n",
    "        lambda row: f\"{row['Coeficiente']:.3f} ({row['IC 2.5%']:.3f}, {row['IC 97.5%']:.3f})\", axis=1\n",
    "    )\n",
    "\n",
    "    resultados_lista.append(resumen)\n",
    "\n",
    "# Combine into one DataFrame\n",
    "resultados_df_total = pd.concat(resultados_lista, ignore_index=True)\n",
    "\n",
    "# Optional: sort by p-value or beta\n",
    "resultados_df_total = resultados_df_total.sort_values(\"p value\")\n",
    "\n",
    "# View\n",
    "print(resultados_df_total)"
   ]
  },
  {
   "cell_type": "code",
   "execution_count": null,
   "id": "7ed8da9a-85e2-4e8e-b32f-e3f147a5e65a",
   "metadata": {},
   "outputs": [],
   "source": [
    "resultados_df_total[\"Significativo\"] = resultados_df_total[\"p value\"] < 0.05\n",
    "\n",
    "# Sort by group and variable for consistent layout\n",
    "df_plot = resultados_df_total.sort_values(by=[\"Variable\"]).copy()\n",
    "\n",
    "# Create a unique label per row for plotting (e.g., \"Group1 - VAT\")\n",
    "df_plot[\"Etiqueta\"] = df_plot[\"Variable\"]\n",
    "\n",
    "# Reverse order for top-down plotting\n",
    "df_plot = df_plot[::-1].reset_index(drop=True)\n",
    "\n",
    "# Set figure size\n",
    "plt.figure(figsize=(10, len(df_plot) * 0.4))\n",
    "sns.set(style=\"whitegrid\")\n",
    "\n",
    "# Plot points\n",
    "palette = {True: \"tab:blue\", False: \"gray\"}\n",
    "sns.scatterplot(\n",
    "    data=df_plot,\n",
    "    x=\"Coeficiente\",\n",
    "    y=\"Etiqueta\",\n",
    "    hue=\"Significativo\",\n",
    "    palette=palette,\n",
    "    s=70,\n",
    "    legend=False\n",
    ")\n",
    "\n",
    "# Plot confidence intervals\n",
    "for idx, row in df_plot.iterrows():\n",
    "    plt.plot([row[\"IC 2.5%\"], row[\"IC 97.5%\"]], [idx, idx], color=palette[row[\"Significativo\"]], lw=2)\n",
    "\n",
    "# Add vertical line at 0 (null effect)\n",
    "plt.axvline(x=0, color=\"black\", linestyle=\"--\", lw=1)\n",
    "\n",
    "# Labels and title\n",
    "plt.xlabel(\"Standardized β (95% CI)\", fontsize=14)\n",
    "plt.ylabel(\"\", fontsize=14)\n",
    "plt.yticks(fontsize=12)\n",
    "plt.title(\"Forest Plot of Standardized Associations by Obesity Group\", fontsize=16)\n",
    "\n",
    "# Improve layout\n",
    "plt.tight_layout()\n",
    "plt.savefig('path\\\\forest_plot_female.png', bbox_inches='tight', dpi=300) \n",
    "\n",
    "plt.show()"
   ]
  },
  {
   "cell_type": "markdown",
   "id": "90dc9476-fe58-4e92-807c-dba4d3d14597",
   "metadata": {},
   "source": [
    "# Multiregression lineal - Male"
   ]
  },
  {
   "cell_type": "markdown",
   "id": "dd087b8f-f48a-4799-be59-d3684a705206",
   "metadata": {},
   "source": [
    "## Create dataframes"
   ]
  },
  {
   "cell_type": "code",
   "execution_count": null,
   "id": "ac8b72cd-44d5-4aff-a769-a7bb0a42689a",
   "metadata": {},
   "outputs": [],
   "source": [
    "merge_fat_delta = delta_male.merge(obesity_qc, on='f.eid')"
   ]
  },
  {
   "cell_type": "code",
   "execution_count": null,
   "id": "0d492676-2e00-4c19-b70c-6e8421c1d2b4",
   "metadata": {},
   "outputs": [],
   "source": [
    "male = covariates[covariates['sex'] == 1].reset_index(drop=True)"
   ]
  },
  {
   "cell_type": "code",
   "execution_count": null,
   "id": "5551bd78-db38-42e2-bf5b-e7b2f3ed3d17",
   "metadata": {},
   "outputs": [],
   "source": [
    "male['smoking_status_numeric'] = male['smoking_status'].map(smoking_status_map)\n",
    "male['age'] = scaler.fit_transform(male[['age_at_recruitment_visit2']])\n",
    "male['ethnicity'] = encoder.fit_transform(male['ethnicity'])"
   ]
  },
  {
   "cell_type": "code",
   "execution_count": null,
   "id": "46cac099-8c07-44e8-bb98-299794e6b769",
   "metadata": {},
   "outputs": [],
   "source": [
    "ml_delta_test_cova = male[['f.eid', 'obesity_groups', 'drinking_status','physical_moderate', 'ethnicity', 'smoking_status_numeric']]"
   ]
  },
  {
   "cell_type": "code",
   "execution_count": null,
   "id": "d9bc7def-5ac1-43c9-aadc-e59528b1acae",
   "metadata": {},
   "outputs": [],
   "source": [
    "ml_delta_test = merge_fat_delta.merge(ml_delta_test_cova, on='f.eid')"
   ]
  },
  {
   "cell_type": "code",
   "execution_count": null,
   "id": "3afbb3be-a3bf-44c8-99ee-6bcc602a3325",
   "metadata": {},
   "outputs": [],
   "source": [
    "ml_delta_test = ml_delta_test.merge(bmi_waist_hip)"
   ]
  },
  {
   "cell_type": "code",
   "execution_count": null,
   "id": "dc5d2e20-73d8-44fa-aae6-98a5d61c4769",
   "metadata": {},
   "outputs": [],
   "source": [
    "ml_delta_test['VAT'] = ml_delta_test['f.22407.2.0']\n",
    "ml_delta_test['ASAT'] = ml_delta_test['f.22408.2.0']\n",
    "ml_delta_test['Pericardial'] = ml_delta_test['meanArea (cm2)']\n",
    "ml_delta_test['Waist'] = ml_delta_test['f.48.2.0']\n",
    "ml_delta_test['Hip'] = ml_delta_test['f.49.2.0']\n",
    "ml_delta_test['WHR'] = ml_delta_test['waist_hip_ratio']"
   ]
  },
  {
   "cell_type": "code",
   "execution_count": null,
   "id": "bea0dcc9-60d1-4b71-a08b-9d08b8fd7e1e",
   "metadata": {},
   "outputs": [],
   "source": [
    "ml_delta_test['obesity_groups'] = ml_delta_test['obesity_groups_x']"
   ]
  },
  {
   "cell_type": "code",
   "execution_count": null,
   "id": "e7f0d0fa-c950-4512-b2b5-6a03c101b41f",
   "metadata": {},
   "outputs": [],
   "source": [
    "ml_delta_test = ml_delta_test.drop(columns=['f.22407.2.0', 'f.22408.2.0', 'age_at_recruitment_visit2_x', 'f.48.2.0', 'f.49.2.0', 'obesity_groups_x', 'obesity_groups_y', 'predicted DSC', 'waist_hip_ratio'])"
   ]
  },
  {
   "cell_type": "code",
   "execution_count": null,
   "id": "523d9226-85f0-4de0-8d31-958317a2a4ca",
   "metadata": {},
   "outputs": [],
   "source": [
    "imputer = KNNImputer(n_neighbors=10)\n",
    "ml_delta_test_imputed = imputer.fit_transform(ml_delta_test.drop(columns='obesity_groups'))"
   ]
  },
  {
   "cell_type": "code",
   "execution_count": null,
   "id": "57baa505-f7fe-4b03-a093-cc09f066bb09",
   "metadata": {},
   "outputs": [],
   "source": [
    "ml_delta_test_imputed = pd.DataFrame(ml_delta_test_imputed, columns=ml_delta_test.columns[:-1])"
   ]
  },
  {
   "cell_type": "code",
   "execution_count": null,
   "id": "3c5550bb-f2b5-477a-8d0f-d9df2753dc53",
   "metadata": {},
   "outputs": [],
   "source": [
    "delta_test_association = ml_delta_test_imputed.merge(ml_delta_test[['obesity_groups']], left_index=True, right_index=True)"
   ]
  },
  {
   "cell_type": "markdown",
   "id": "bbd8ae13-0e22-4f7b-8111-dbe1b3570e4e",
   "metadata": {},
   "source": [
    "## Results of association"
   ]
  },
  {
   "cell_type": "code",
   "execution_count": null,
   "id": "56388ec1-180c-42fd-8eef-0fbed5be5214",
   "metadata": {},
   "outputs": [],
   "source": [
    "variables_interes = [\"VAT\", \"ASAT\", \"Pericardial\", \"BMI\", \"Waist\", \"Hip\", \"WHR\"]\n",
    "resultados_lista = []\n",
    "\n",
    "# Iterar sobre cada grupo de obesidad\n",
    "for group in delta_test_association[\"obesity_groups\"].unique():\n",
    "    df_group = delta_test_association[delta_test_association[\"obesity_groups\"] == group].copy()\n",
    "\n",
    "    scaler = StandardScaler()\n",
    "    vars_to_standardize = [\"delta\"] + variables_interes\n",
    "    df_group[vars_to_standardize] = scaler.fit_transform(df_group[vars_to_standardize])\n",
    "\n",
    "    # Iterar sobre cada variable individualmente\n",
    "    for var in variables_interes:\n",
    "        modelo = smf.ols(f\"delta ~ {var} + drinking_status + physical_moderate + ethnicity + smoking_status_numeric\", data=df_group).fit()\n",
    "\n",
    "        resumen = pd.DataFrame({\n",
    "            \"Grupo\": [group],\n",
    "            \"Variable\": [var],\n",
    "            \"Coeficiente\": [modelo.params[var]],\n",
    "            \"Error Estándar\": [modelo.bse[var]],\n",
    "            \"p value\": [modelo.pvalues[var]],\n",
    "            \"IC 2.5%\": [modelo.conf_int().loc[var, 0]],\n",
    "            \"IC 97.5%\": [modelo.conf_int().loc[var, 1]]\n",
    "        })\n",
    "\n",
    "        # Formatear coeficiente con intervalo de confianza\n",
    "        resumen[\"β (95% CI)\"] = resumen.apply(\n",
    "            lambda row: f\"{row['Coeficiente']:.3f} ({row['IC 2.5%']:.3f}, {row['IC 97.5%']:.3f})\", axis=1\n",
    "        )\n",
    "\n",
    "        resultados_lista.append(resumen)\n",
    "\n",
    "resultados_df_all_groups = pd.concat(resultados_lista, ignore_index=True)\n",
    "\n",
    "df_pivot2 = resultados_df_all_groups.pivot_table(\n",
    "    index=\"Grupo\", \n",
    "    columns=\"Variable\", \n",
    "    values=[\"β (95% CI)\", \"p value\"], \n",
    "    aggfunc=\"first\"\n",
    ")\n",
    "\n",
    "df_pivot2.columns = pd.MultiIndex.from_tuples(\n",
    "    [(col[1], \"β (95% CI)\") if col[0] == \"β (95% CI)\" else (col[1], \"p value\") for col in df_pivot2.columns])\n",
    "\n",
    "column_order = [\n",
    "    ('VAT', 'β (95% CI)'), ('VAT', 'p value'),\n",
    "    ('ASAT', 'β (95% CI)'), ('ASAT', 'p value'),\n",
    "    ('Pericardial', 'β (95% CI)'), ('Pericardial', 'p value'),\n",
    "    ('BMI', 'β (95% CI)'), ('BMI', 'p value'),\n",
    "    ('Hip', 'β (95% CI)'), ('Hip', 'p value'),\n",
    "    ('Waist', 'β (95% CI)'), ('Waist', 'p value'),\n",
    "    ('WHR', 'β (95% CI)'), ('WHR', 'p value')\n",
    "]\n",
    "\n",
    "df_pivot2 = df_pivot2[column_order]"
   ]
  },
  {
   "cell_type": "code",
   "execution_count": null,
   "id": "050b1a50-5b90-43dd-a0a4-68c3b50ad931",
   "metadata": {},
   "outputs": [],
   "source": [
    "resultados_df_all_groups[\"Significativo\"] = resultados_df_all_groups[\"p value\"] < 0.05\n",
    "\n",
    "# Sort by group and variable for consistent layout\n",
    "df_plot = resultados_df_all_groups.sort_values(by=[\"Grupo\", \"Variable\"]).copy()\n",
    "\n",
    "# Create a unique label per row for plotting (e.g., \"Group1 - VAT\")\n",
    "df_plot[\"Etiqueta\"] = df_plot[\"Grupo\"] + \" - \" + df_plot[\"Variable\"]\n",
    "\n",
    "# Reverse order for top-down plotting\n",
    "df_plot = df_plot[::-1].reset_index(drop=True)\n",
    "\n",
    "# Set figure size\n",
    "plt.figure(figsize=(10, len(df_plot) * 0.4))\n",
    "sns.set(style=\"whitegrid\")\n",
    "\n",
    "# Plot points\n",
    "palette = {True: \"tab:blue\", False: \"red\"}\n",
    "sns.scatterplot(\n",
    "    data=df_plot,\n",
    "    x=\"Coeficiente\",\n",
    "    y=\"Etiqueta\",\n",
    "    hue=\"Significativo\",\n",
    "    palette=palette,\n",
    "    s=70,\n",
    "    legend=False\n",
    ")\n",
    "\n",
    "# Plot confidence intervals\n",
    "for idx, row in df_plot.iterrows():\n",
    "    plt.plot([row[\"IC 2.5%\"], row[\"IC 97.5%\"]], [idx, idx], color=palette[row[\"Significativo\"]], lw=2)\n",
    "\n",
    "# Add vertical line at 0 (null effect)\n",
    "plt.axvline(x=0, color=\"black\", linestyle=\"--\", lw=1)\n",
    "\n",
    "# Labels and title\n",
    "plt.xlabel(\"Standardized β (95% CI)\", fontsize=14)\n",
    "plt.ylabel(\"\")\n",
    "plt.yticks(fontsize=12)\n",
    "plt.title(\"Forest Plot of Standardized Associations by Obesity Group\", fontsize=16)\n",
    "\n",
    "# Improve layout\n",
    "plt.tight_layout()\n",
    "plt.savefig('\\\\Users\\\\Cynthia Maldonado\\\\OneDrive - Queen Mary, University of London\\\\Biological Aging\\\\concept paper\\\\figures\\\\forest_plot_obesity_groups_male.png', bbox_inches='tight', dpi=300) \n",
    "\n",
    "plt.show()"
   ]
  },
  {
   "cell_type": "code",
   "execution_count": null,
   "id": "705448e9-098d-4168-bf7a-d77548ce9a2d",
   "metadata": {},
   "outputs": [],
   "source": [
    "variables_interes = [\"VAT\", \"ASAT\", \"Pericardial\", \"BMI\", \"Waist\", \"Hip\", \"WHR\"]\n",
    "\n",
    "# Copy and standardize the data\n",
    "df_std = delta_test_association.copy()\n",
    "\n",
    "# Standardize delta and variables of interest\n",
    "scaler = StandardScaler()\n",
    "vars_to_standardize = [\"delta\"] + variables_interes\n",
    "df_std[vars_to_standardize] = scaler.fit_transform(df_std[vars_to_standardize])\n",
    "\n",
    "# Store results\n",
    "resultados_lista = []\n",
    "\n",
    "# Loop over variables\n",
    "for var in variables_interes:\n",
    "    modelo = smf.ols(\n",
    "        f\"delta ~ {var} + drinking_status + physical_moderate + ethnicity + smoking_status_numeric\", \n",
    "        data=df_std\n",
    "    ).fit()\n",
    "\n",
    "    # Get stats\n",
    "    resumen = pd.DataFrame({\n",
    "        \"Variable\": [var],\n",
    "        \"Coeficiente\": [modelo.params[var]],\n",
    "        \"Error Estándar\": [modelo.bse[var]],\n",
    "        \"p value\": [modelo.pvalues[var]],\n",
    "        \"IC 2.5%\": [modelo.conf_int().loc[var, 0]],\n",
    "        \"IC 97.5%\": [modelo.conf_int().loc[var, 1]]\n",
    "    })\n",
    "\n",
    "    resumen[\"β (95% CI)\"] = resumen.apply(\n",
    "        lambda row: f\"{row['Coeficiente']:.3f} ({row['IC 2.5%']:.3f}, {row['IC 97.5%']:.3f})\", axis=1\n",
    "    )\n",
    "\n",
    "    resultados_lista.append(resumen)\n",
    "\n",
    "# Combine into one DataFrame\n",
    "resultados_df_total = pd.concat(resultados_lista, ignore_index=True)\n",
    "\n",
    "# Optional: sort by p-value or beta\n",
    "resultados_df_total = resultados_df_total.sort_values(\"p value\")\n",
    "\n",
    "# View\n",
    "print(resultados_df_total)"
   ]
  },
  {
   "cell_type": "code",
   "execution_count": null,
   "id": "0f3182ed-b596-4583-a34c-894adea35caf",
   "metadata": {},
   "outputs": [],
   "source": [
    "resultados_df_total[\"Significativo\"] = resultados_df_total[\"p value\"] < 0.05\n",
    "\n",
    "# Sort by group and variable for consistent layout\n",
    "df_plot = resultados_df_total.sort_values(by=[\"Variable\"]).copy()\n",
    "\n",
    "# Create a unique label per row for plotting (e.g., \"Group1 - VAT\")\n",
    "df_plot[\"Etiqueta\"] = df_plot[\"Variable\"]\n",
    "\n",
    "# Reverse order for top-down plotting\n",
    "df_plot = df_plot[::-1].reset_index(drop=True)\n",
    "\n",
    "# Set figure size\n",
    "plt.figure(figsize=(10, len(df_plot) * 0.4))\n",
    "sns.set(style=\"whitegrid\")\n",
    "\n",
    "# Plot points\n",
    "palette = {True: \"tab:blue\", False: \"gray\"}\n",
    "sns.scatterplot(\n",
    "    data=df_plot,\n",
    "    x=\"Coeficiente\",\n",
    "    y=\"Etiqueta\",\n",
    "    hue=\"Significativo\",\n",
    "    palette=palette,\n",
    "    s=70,\n",
    "    legend=False\n",
    ")\n",
    "\n",
    "# Plot confidence intervals\n",
    "for idx, row in df_plot.iterrows():\n",
    "    plt.plot([row[\"IC 2.5%\"], row[\"IC 97.5%\"]], [idx, idx], color=palette[row[\"Significativo\"]], lw=2)\n",
    "\n",
    "# Add vertical line at 0 (null effect)\n",
    "plt.axvline(x=0, color=\"black\", linestyle=\"--\", lw=1)\n",
    "\n",
    "# Labels and title\n",
    "plt.xlabel(\"Standardized β (95% CI)\", fontsize=14)\n",
    "plt.ylabel(\"\", fontsize=14)\n",
    "plt.yticks(fontsize=12)\n",
    "plt.title(\"Forest Plot of Standardized Associations by Obesity Group\", fontsize=16)\n",
    "\n",
    "# Improve layout\n",
    "plt.tight_layout()\n",
    "plt.savefig('\\\\Users\\\\Cynthia Maldonado\\\\OneDrive - Queen Mary, University of London\\\\Biological Aging\\\\concept paper\\\\figures\\\\forest_plot_male.png', bbox_inches='tight', dpi=300) \n",
    "\n",
    "plt.show()"
   ]
  }
 ],
 "metadata": {
  "kernelspec": {
   "display_name": "Python 3 (ipykernel)",
   "language": "python",
   "name": "python3"
  },
  "language_info": {
   "codemirror_mode": {
    "name": "ipython",
    "version": 3
   },
   "file_extension": ".py",
   "mimetype": "text/x-python",
   "name": "python",
   "nbconvert_exporter": "python",
   "pygments_lexer": "ipython3",
   "version": "3.12.7"
  }
 },
 "nbformat": 4,
 "nbformat_minor": 5
}

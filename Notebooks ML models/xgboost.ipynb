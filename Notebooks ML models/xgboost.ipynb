{
 "cells": [
  {
   "cell_type": "code",
   "execution_count": null,
   "id": "0e8e9de6-9011-4fa6-af25-c482a6c06b41",
   "metadata": {},
   "outputs": [],
   "source": [
    "import pandas as pd\n",
    "import matplotlib.pyplot as plt\n",
    "import seaborn as sns\n",
    "from sklearn.preprocessing import StandardScaler, MinMaxScaler, OneHotEncoder, LabelEncoder\n",
    "import numpy as np\n",
    "from sklearn.linear_model import LinearRegression\n",
    "from sklearn.model_selection import GridSearchCV, train_test_split\n",
    "from sklearn.metrics import mean_absolute_error, mean_squared_error, median_absolute_error, r2_score\n",
    "from scipy.stats import pearsonr\n",
    "import seaborn as sns\n",
    "import scipy.stats as stats\n",
    "import xgboost as xgb\n",
    "import statsmodels.api as sm\n",
    "import statsmodels.formula.api as smf\n",
    "from statsmodels.formula.api import ols\n",
    "from sklearn.impute import KNNImputer"
   ]
  },
  {
   "cell_type": "code",
   "execution_count": null,
   "id": "13623a84-c33a-45df-80da-667c20db554a",
   "metadata": {},
   "outputs": [],
   "source": [
    "cmr_phenotypes_34K = pd.read_csv('path\\\\cmr_phenotypes_34496.csv')"
   ]
  },
  {
   "cell_type": "code",
   "execution_count": null,
   "id": "50f7dfd4-cd2f-42e1-8bd8-513d744a5325",
   "metadata": {},
   "outputs": [],
   "source": [
    "covariates = pd.read_csv('path\\\\ukb_covariates_34K.csv')"
   ]
  },
  {
   "cell_type": "code",
   "execution_count": null,
   "id": "3946b7df-929b-4b7d-bbc7-1c706539fe5c",
   "metadata": {},
   "outputs": [],
   "source": [
    "covariates = covariates.drop(columns='sex')"
   ]
  },
  {
   "cell_type": "code",
   "execution_count": null,
   "id": "4da4271c-f974-44d8-a9d6-1d72d44d782f",
   "metadata": {},
   "outputs": [],
   "source": [
    "sex = pd.read_csv('path\\\\sex_34496.csv')"
   ]
  },
  {
   "cell_type": "code",
   "execution_count": null,
   "id": "79111be5-5fc1-4e2a-83c7-688821ae51bc",
   "metadata": {},
   "outputs": [],
   "source": [
    "covariates = sex.merge(covariates, on='f.eid', how='left')"
   ]
  },
  {
   "cell_type": "code",
   "execution_count": null,
   "id": "b3234fff-9bcc-4d9d-8f15-821166cc91e8",
   "metadata": {},
   "outputs": [],
   "source": [
    "bmi = pd.read_csv('path\\\\obesity_bmi_height_weight_cmr_phenotypes_45K.csv')\n",
    "waist = pd.read_csv('path\\\\waist.tab', sep=\"\\t\")\n",
    "hip = pd.read_csv('path\\\\hip.tab', sep=\"\\t\")"
   ]
  },
  {
   "cell_type": "code",
   "execution_count": null,
   "id": "8ca4e6c8-6c07-4951-848c-a1c9835be25b",
   "metadata": {},
   "outputs": [],
   "source": [
    "bmi_ = bmi[['f.eid','BMI']]\n",
    "waist_ = waist[['f.eid', 'f.48.2.0']]\n",
    "hip_ = hip[['f.eid', 'f.49.2.0']]\n",
    "\n",
    "bmi_waist = bmi_.merge(waist_)\n",
    "bmi_waist_hip = bmi_waist.merge(hip_)\n",
    "\n",
    "bmi_waist_hip['waist_hip_ratio'] = bmi_waist_hip['f.48.2.0']/bmi_waist_hip['f.49.2.0']"
   ]
  },
  {
   "cell_type": "code",
   "execution_count": null,
   "id": "c490a297-86d4-4d6e-94a3-1b40875ebd94",
   "metadata": {},
   "outputs": [],
   "source": [
    "cmr_covariates = cmr_phenotypes_34K.merge(covariates, on='f.eid', how='left')"
   ]
  },
  {
   "cell_type": "code",
   "execution_count": null,
   "id": "f311f17c-18b5-473a-a51e-90aa3b2f01a6",
   "metadata": {},
   "outputs": [],
   "source": [
    "cmr_covariates = cmr_covariates.merge(bmi_waist_hip, on='f.eid')"
   ]
  },
  {
   "cell_type": "code",
   "execution_count": null,
   "id": "fad75d23-adaa-4424-9f6c-d52835c4b91b",
   "metadata": {},
   "outputs": [],
   "source": [
    "def categorize_obesity(bmi):\n",
    "    if bmi < 18.5:\n",
    "        return 'underweight'\n",
    "    elif 18.5 <= bmi < 25:\n",
    "        return 'normal weight'\n",
    "    elif 25 <= bmi < 30:\n",
    "        return 'overweight'\n",
    "    elif 30 <= bmi < 40:\n",
    "        return 'obesity'\n",
    "    else:\n",
    "        return 'severe obesity'\n",
    "\n",
    "# Suponiendo que tienes un DataFrame llamado df con la columna 'BMI'\n",
    "cmr_covariates['obesity_groups'] = cmr_covariates['BMI'].apply(categorize_obesity)"
   ]
  },
  {
   "cell_type": "code",
   "execution_count": null,
   "id": "fb02518f-ebc3-4d8c-873a-82081b27a980",
   "metadata": {},
   "outputs": [],
   "source": [
    "bmi_waist_hip.isna().sum()"
   ]
  },
  {
   "cell_type": "code",
   "execution_count": null,
   "id": "6a92ea5c-80a7-4003-b69b-f0b9ba9745f9",
   "metadata": {},
   "outputs": [],
   "source": [
    "cmr_covariates.isna().sum()[-15:]"
   ]
  },
  {
   "cell_type": "code",
   "execution_count": null,
   "id": "efc65458-0972-4aa3-9d3a-c851eab70b0c",
   "metadata": {},
   "outputs": [],
   "source": [
    "cmr_covariates['sex'].value_counts()"
   ]
  },
  {
   "cell_type": "code",
   "execution_count": null,
   "id": "bbc74955-a0c1-49b3-9671-182a98ab84f5",
   "metadata": {},
   "outputs": [],
   "source": [
    "female = cmr_covariates[cmr_covariates['sex'] == 0].reset_index(drop=True)\n",
    "#male = cmr_covariates[cmr_covariates['sex'] == 1].reset_index(drop=True)"
   ]
  },
  {
   "cell_type": "code",
   "execution_count": null,
   "id": "7908b5d3-7b6d-457e-ba57-4c34ed410572",
   "metadata": {},
   "outputs": [],
   "source": [
    "female.isna().sum()"
   ]
  },
  {
   "cell_type": "code",
   "execution_count": null,
   "id": "b93f0234-e9eb-4f49-b6bb-8a08815aafee",
   "metadata": {},
   "outputs": [],
   "source": [
    "female"
   ]
  },
  {
   "cell_type": "code",
   "execution_count": null,
   "id": "1b49dc5b-ab4f-4025-ad43-fdaec9d2bb23",
   "metadata": {},
   "outputs": [],
   "source": [
    "ethnicity = {\n",
    "    'white': 1,\n",
    "    'south_asian': 2,\n",
    "    'mixed': 3,\n",
    "    'other': 4,\n",
    "    'chinese': 5,\n",
    "    'unknown':6\n",
    "}"
   ]
  },
  {
   "cell_type": "code",
   "execution_count": null,
   "id": "9c4788e8-bf92-4dff-a393-8e45c527302b",
   "metadata": {},
   "outputs": [],
   "source": [
    "encoder = LabelEncoder()"
   ]
  },
  {
   "cell_type": "code",
   "execution_count": null,
   "id": "8295816e-1c10-4138-b691-6096217d4b29",
   "metadata": {},
   "outputs": [],
   "source": [
    "female['ethnicity'] = female['ethnicity'].map(ethnicity)"
   ]
  },
  {
   "cell_type": "code",
   "execution_count": null,
   "id": "a360d50d-adbe-4e32-bce5-711066a74dd8",
   "metadata": {},
   "outputs": [],
   "source": [
    "female['ethnicity'].value_counts()"
   ]
  },
  {
   "cell_type": "code",
   "execution_count": null,
   "id": "8251cd39-cf02-4f5d-bfb4-f73bd3091efd",
   "metadata": {},
   "outputs": [],
   "source": [
    "female.columns"
   ]
  },
  {
   "cell_type": "markdown",
   "id": "984d2620-b24e-471f-806f-c37a899c3c10",
   "metadata": {},
   "source": [
    "# KNN Imputer"
   ]
  },
  {
   "cell_type": "code",
   "execution_count": null,
   "id": "92191a57-c1d1-48a4-96a0-46e3d72ab260",
   "metadata": {},
   "outputs": [],
   "source": [
    "all_cmr_phenotypes_18K = female.drop(columns=['f.eid', 'obesity_groups', 'deprivation_index','highest_qualification_category', 'smoking_status', 'sex', 'drinking_status', 'physical_moderate', 'physical_vigorous', 'sbp', 'BMI', 'f.48.2.0', 'f.49.2.0','waist_hip_ratio'])"
   ]
  },
  {
   "cell_type": "code",
   "execution_count": null,
   "id": "6331ced3-1a9a-456b-8d96-7ddeb7497032",
   "metadata": {},
   "outputs": [],
   "source": [
    "all_cmr_phenotypes_18K"
   ]
  },
  {
   "cell_type": "code",
   "execution_count": null,
   "id": "156fe8a2-266c-4e04-aa06-85686a087038",
   "metadata": {},
   "outputs": [],
   "source": [
    "imputer = KNNImputer(n_neighbors=10)\n",
    "data_imputed = imputer.fit_transform(all_cmr_phenotypes_18K)"
   ]
  },
  {
   "cell_type": "code",
   "execution_count": null,
   "id": "8fd8a8ef-4f98-4f6a-9f43-5c3243860198",
   "metadata": {},
   "outputs": [],
   "source": [
    "heart_34K_imputed = pd.DataFrame(data_imputed, columns=all_cmr_phenotypes_18K.columns)"
   ]
  },
  {
   "cell_type": "code",
   "execution_count": null,
   "id": "9f2c5b51-c18a-4a3a-babf-19bac40c94a8",
   "metadata": {},
   "outputs": [],
   "source": [
    "heart_34K_imputed.columns"
   ]
  },
  {
   "cell_type": "code",
   "execution_count": null,
   "id": "683c3556-e864-41ef-bfff-755110d2796f",
   "metadata": {},
   "outputs": [],
   "source": [
    "df_knn_ = pd.concat([female[['f.eid','obesity_groups']], heart_34K_imputed ], axis=1)"
   ]
  },
  {
   "cell_type": "code",
   "execution_count": null,
   "id": "bb1b3ad4-311d-4e68-86d5-74bce6cb3477",
   "metadata": {},
   "outputs": [],
   "source": [
    "df_knn_ #.isna().sum()"
   ]
  },
  {
   "cell_type": "markdown",
   "id": "28f36f37-30ca-410e-85a0-5d6a30339f46",
   "metadata": {},
   "source": [
    "# Deconfound_features"
   ]
  },
  {
   "cell_type": "code",
   "execution_count": null,
   "id": "141b0628-80cd-49bf-a905-ee4feed9617a",
   "metadata": {},
   "outputs": [],
   "source": [
    "df_knn_cmr_covariates = df_knn_.drop(columns=['age_at_recruitment_visit2', 'obesity_groups']) #.merge(covariates_)"
   ]
  },
  {
   "cell_type": "code",
   "execution_count": null,
   "id": "bad24311-7687-4804-8411-edf4ae376bfe",
   "metadata": {},
   "outputs": [],
   "source": [
    "df_knn_cmr_covariates"
   ]
  },
  {
   "cell_type": "code",
   "execution_count": null,
   "id": "a054dab9-dae5-4af6-893d-fd26a38e65ee",
   "metadata": {},
   "outputs": [],
   "source": [
    "def deconfound_feature(feature, ethnic):\n",
    "    X = np.array([ethnic]).T\n",
    "    y = feature  # Dependent variable\n",
    "    \n",
    "    model = LinearRegression()\n",
    "    model.fit(X, y)\n",
    "    \n",
    "    predicted = model.predict(X)  # Get predicted values\n",
    "    residual = y - predicted  # Compute residual\n",
    "    return residual"
   ]
  },
  {
   "cell_type": "code",
   "execution_count": null,
   "id": "9152786c-db6f-42b5-a466-1a457516aa30",
   "metadata": {},
   "outputs": [],
   "source": [
    "excluded_columns = ['f.eid', 'ethnicity']\n",
    "cmr_features = [col for col in df_knn_cmr_covariates.columns if col not in excluded_columns]"
   ]
  },
  {
   "cell_type": "code",
   "execution_count": null,
   "id": "12e6e3c8-dbee-4ead-9d4c-f1375c744635",
   "metadata": {},
   "outputs": [],
   "source": [
    "len(cmr_features)"
   ]
  },
  {
   "cell_type": "code",
   "execution_count": null,
   "id": "119f73f8-7b2d-424b-8f04-6fe09733b736",
   "metadata": {},
   "outputs": [],
   "source": [
    "for feature in cmr_features:\n",
    "    df_knn_cmr_covariates[f\"{feature}_deconfounded\"] = deconfound_feature(df_knn_cmr_covariates[feature], df_knn_cmr_covariates['ethnicity'])"
   ]
  },
  {
   "cell_type": "code",
   "execution_count": null,
   "id": "a13b1c6c-9ab5-4496-9951-6fb26b0aa4be",
   "metadata": {},
   "outputs": [],
   "source": [
    "df_knn_cmr_covariates.drop(columns=cmr_features + ['f.eid', 'ethnicity'], inplace=True)"
   ]
  },
  {
   "cell_type": "code",
   "execution_count": null,
   "id": "5f269226-3c2f-4532-bd5d-b3f41d1e79eb",
   "metadata": {},
   "outputs": [],
   "source": [
    "scaler = StandardScaler()"
   ]
  },
  {
   "cell_type": "code",
   "execution_count": null,
   "id": "d69367b0-e771-4265-87ea-e09ae401b1b5",
   "metadata": {},
   "outputs": [],
   "source": [
    "df_knn_cmr_covariates_ = scaler.fit_transform(df_knn_cmr_covariates)"
   ]
  },
  {
   "cell_type": "code",
   "execution_count": null,
   "id": "83a71a02-d635-413c-8c7a-7d390a6c6da1",
   "metadata": {},
   "outputs": [],
   "source": [
    "df_knn_cmr_covariates_ = pd.DataFrame(df_knn_cmr_covariates_, columns=df_knn_cmr_covariates.columns)"
   ]
  },
  {
   "cell_type": "code",
   "execution_count": null,
   "id": "bb8e4809-c0e3-4fd5-9165-48fb5da5722b",
   "metadata": {},
   "outputs": [],
   "source": [
    "df_knn_cmr_covariates_"
   ]
  },
  {
   "cell_type": "markdown",
   "id": "abebcde3-45e1-4e26-a3b5-1f3ff1cce68f",
   "metadata": {
    "jp-MarkdownHeadingCollapsed": true
   },
   "source": [
    "# Prepare Train, validation, testing"
   ]
  },
  {
   "cell_type": "code",
   "execution_count": null,
   "id": "757ded28-b538-4309-a70e-968198137c55",
   "metadata": {},
   "outputs": [],
   "source": [
    "df_knn_cmr_covariates"
   ]
  },
  {
   "cell_type": "code",
   "execution_count": null,
   "id": "706b2544-738b-4d10-9259-817bcd46a1e0",
   "metadata": {},
   "outputs": [],
   "source": [
    "df_knn_[['f.eid','obesity_groups','age_at_recruitment_visit2']].merge(df_knn_cmr_covariates_, left_index=True, right_index=True)"
   ]
  },
  {
   "cell_type": "code",
   "execution_count": null,
   "id": "3bc219d0-1941-4769-8455-ba90ca771af8",
   "metadata": {},
   "outputs": [],
   "source": [
    "df_merge = df_knn_[['f.eid','obesity_groups','age_at_recruitment_visit2']].merge(df_knn_cmr_covariates, left_index=True, right_index=True)\n",
    "df_merge['obesity_groups'].value_counts()"
   ]
  },
  {
   "cell_type": "code",
   "execution_count": null,
   "id": "247d23cc-4ca6-4fa0-8958-f353ac1745a7",
   "metadata": {},
   "outputs": [],
   "source": [
    "healthy = df_merge[df_merge['obesity_groups'] == 'normal weight'].reset_index(drop=True)\n",
    "#test_healthy = healthy.sample(n=359, random_state=42).sort_values(by='f.eid').reset_index(drop=True)\n",
    "train_healthy = healthy #[~healthy['f.eid'].isin(test_healthy['f.eid'])].sort_values(by='f.eid').reset_index(drop=True)"
   ]
  },
  {
   "cell_type": "code",
   "execution_count": null,
   "id": "4532a948-711f-4443-aabd-346a9620cda9",
   "metadata": {},
   "outputs": [],
   "source": [
    "len(healthy)"
   ]
  },
  {
   "cell_type": "code",
   "execution_count": null,
   "id": "83906a4e-0f83-4587-be57-262d03c4ea7f",
   "metadata": {},
   "outputs": [],
   "source": [
    "len(train_healthy)"
   ]
  },
  {
   "cell_type": "code",
   "execution_count": null,
   "id": "b694d7ac-faba-415e-b826-a1c5445d36ca",
   "metadata": {},
   "outputs": [],
   "source": [
    "X = train_healthy.drop(columns=['f.eid', 'obesity_groups', 'age_at_recruitment_visit2'])\n",
    "y = train_healthy['age_at_recruitment_visit2']\n",
    "X_train, X_val, y_train, y_val = train_test_split(X, y, test_size=0.2, random_state=42)"
   ]
  },
  {
   "cell_type": "code",
   "execution_count": null,
   "id": "1c983768-ae14-4ef6-bd48-39d4a1428ac9",
   "metadata": {},
   "outputs": [],
   "source": [
    "test_underweight = df_merge[df_merge['obesity_groups'] == 'underweight'].reset_index(drop=True)\n",
    "test_overweight = df_merge[df_merge['obesity_groups'] == 'overweight'].reset_index(drop=True)\n",
    "test_obesity = df_merge[df_merge['obesity_groups'] == 'obesity'].reset_index(drop=True)\n",
    "test_severe_obesity = df_merge[df_merge['obesity_groups'] == 'severe obesity'].reset_index(drop=True)\n",
    "test_normal_weight = df_merge[df_merge['obesity_groups'] == 'normal weight'].reset_index(drop=True)"
   ]
  },
  {
   "cell_type": "code",
   "execution_count": null,
   "id": "ff04229c-9edb-461f-8d96-87a5e0e76519",
   "metadata": {},
   "outputs": [],
   "source": [
    "test_normal_weight"
   ]
  },
  {
   "cell_type": "code",
   "execution_count": null,
   "id": "61fd132c-3551-4b0f-957f-ffd9ee621560",
   "metadata": {},
   "outputs": [],
   "source": [
    "print(len(test_underweight))\n",
    "print(len(test_normal_weight))\n",
    "print(len(test_overweight))\n",
    "print(len(test_obesity))\n",
    "print(len(test_severe_obesity))"
   ]
  },
  {
   "cell_type": "code",
   "execution_count": null,
   "id": "168fe020-696e-45d7-8e78-4aa9ab89f0e3",
   "metadata": {},
   "outputs": [],
   "source": [
    "X_test_underweight = test_underweight.drop(columns=['f.eid', 'obesity_groups', 'age_at_recruitment_visit2'])\n",
    "y_test_underweight = test_underweight['age_at_recruitment_visit2']\n",
    "X_test_healthy = test_normal_weight.drop(columns=['f.eid', 'obesity_groups', 'age_at_recruitment_visit2'])\n",
    "y_test_healthy = test_normal_weight['age_at_recruitment_visit2']\n",
    "X_test_overweight = test_overweight.drop(columns=['f.eid', 'obesity_groups', 'age_at_recruitment_visit2'])\n",
    "y_test_overweight = test_overweight['age_at_recruitment_visit2']\n",
    "X_test_obesity = test_obesity.drop(columns=['f.eid', 'obesity_groups', 'age_at_recruitment_visit2'])\n",
    "y_test_obesity = test_obesity['age_at_recruitment_visit2']\n",
    "X_test_severe_obesity = test_severe_obesity.drop(columns=['f.eid', 'obesity_groups', 'age_at_recruitment_visit2'])\n",
    "y_test_severe_obesity = test_severe_obesity['age_at_recruitment_visit2']"
   ]
  },
  {
   "cell_type": "code",
   "execution_count": null,
   "id": "06f7d8fa-2185-4dc6-9010-9870bc568727",
   "metadata": {},
   "outputs": [],
   "source": [
    "print('X train', X_train.shape)\n",
    "print('X val', X_val.shape)\n",
    "print('Y train', y_train.shape)\n",
    "print('Y val', y_val.shape)"
   ]
  },
  {
   "cell_type": "code",
   "execution_count": null,
   "id": "cb638c1b-76ea-4350-b3e0-c2eb46d5d452",
   "metadata": {},
   "outputs": [],
   "source": [
    "y_train.isna().sum()"
   ]
  },
  {
   "cell_type": "code",
   "execution_count": null,
   "id": "2ff7dcc3-2e9a-4957-8048-036123be14a3",
   "metadata": {},
   "outputs": [],
   "source": [
    "X_test_normal_weight = healthy.drop(columns=['f.eid', 'obesity_groups', 'age_at_recruitment_visit2'])\n",
    "y_test_normal_weight = healthy['age_at_recruitment_visit2']"
   ]
  },
  {
   "cell_type": "code",
   "execution_count": null,
   "id": "c5019add-b259-46e5-8acf-3f4ad83f3068",
   "metadata": {},
   "outputs": [],
   "source": [
    "print('X test normal weight', X_test_normal_weight.shape)\n",
    "print('Y test normal weight', y_test_normal_weight.shape)"
   ]
  },
  {
   "cell_type": "code",
   "execution_count": null,
   "id": "25e54e36-fc64-4c7a-a199-cde844a9d1d6",
   "metadata": {},
   "outputs": [],
   "source": [
    "print('X test underweight', X_test_underweight.shape)\n",
    "print('Y test underweight', y_test_underweight.shape)\n",
    "\n",
    "print('X test healthy', X_test_healthy.shape)\n",
    "print('Y test healthy', y_test_healthy.shape)\n",
    "\n",
    "print('X test overweight', X_test_overweight.shape)\n",
    "print('Y test overweight', y_test_overweight.shape)\n",
    "\n",
    "print('X test obesity', X_test_obesity.shape)\n",
    "print('Y test obesity', y_test_obesity.shape)\n",
    "\n",
    "print('X test severe obesity', X_test_severe_obesity.shape)\n",
    "print('Y test severe obesity', y_test_severe_obesity.shape)"
   ]
  },
  {
   "cell_type": "markdown",
   "id": "8d71745a-8717-4a3c-ace4-a9468507c6da",
   "metadata": {},
   "source": [
    "# Training Model"
   ]
  },
  {
   "cell_type": "code",
   "execution_count": null,
   "id": "0c0dff62-ba97-4fb5-bef3-4f7e9c87889c",
   "metadata": {},
   "outputs": [],
   "source": [
    "def evaluate_model(y_true, y_pred, label=\"Model\"):\n",
    "    mae = mean_absolute_error(y_true, y_pred)\n",
    "    mse = mean_squared_error(y_true, y_pred)\n",
    "    r2 = r2_score(y_true, y_pred)\n",
    "    corr = np.corrcoef(y_true, y_pred)[0, 1]\n",
    "    print(f\"\\n🔹 {label} Results:\")\n",
    "    print(f\"   MAE: {mae:.4f}\")\n",
    "    print(f\"   MSE: {mse:.4f}\")\n",
    "    print(f\"   R²: {r2:.4f}\")\n",
    "    print(f\"   Correlation: {corr:.2f}\")"
   ]
  },
  {
   "cell_type": "markdown",
   "id": "da6a92cf-2749-43d9-9aae-86c6a8edf5b8",
   "metadata": {},
   "source": [
    "## XGBoost"
   ]
  },
  {
   "cell_type": "code",
   "execution_count": null,
   "id": "754c533c-7287-4f1e-9214-adbe3641f579",
   "metadata": {},
   "outputs": [],
   "source": [
    "param_grid = {\n",
    "    'n_estimators': [10, 20, 50, 100, 200, 500],\n",
    "    'max_depth': [1,2,3,5],\n",
    "    'learning_rate': [0.001, 0.01],\n",
    "    'subsample': [0.01, 0.4, 0.6, 0.8],\n",
    "    'colsample_bytree': [0.6,0.8],\n",
    "    'reg_lambda': [0.1,1]  # Regularización L2\n",
    "}"
   ]
  },
  {
   "cell_type": "code",
   "execution_count": null,
   "id": "50abd4e5-267d-4e5f-928f-a705e5fcd442",
   "metadata": {},
   "outputs": [],
   "source": [
    "xgb_model = xgb.XGBRegressor(objective='reg:squarederror', eval_metric='mae', early_stopping_rounds=50, random_state=1)"
   ]
  },
  {
   "cell_type": "code",
   "execution_count": null,
   "id": "8a9c3a6b-a18b-450e-b33b-308e883e8eba",
   "metadata": {},
   "outputs": [],
   "source": [
    "grid_search = GridSearchCV(\n",
    "    estimator=xgb_model, param_grid=param_grid, \n",
    "    scoring='neg_mean_absolute_error', \n",
    "    cv=10, verbose=2, n_jobs=-1\n",
    ")"
   ]
  },
  {
   "cell_type": "code",
   "execution_count": null,
   "id": "0bc50918-b611-4083-a73e-59a7067701b2",
   "metadata": {},
   "outputs": [],
   "source": [
    "grid_search.fit(X_train, y_train, eval_set=[(X_val, y_val)], verbose=False)"
   ]
  },
  {
   "cell_type": "markdown",
   "id": "3d9f443e-dfd0-4773-b527-b36740e95a02",
   "metadata": {},
   "source": [
    "### Bias correction"
   ]
  },
  {
   "cell_type": "code",
   "execution_count": null,
   "id": "7cc5f5bf-bc92-4b47-b895-4b2c7eb6f7d0",
   "metadata": {},
   "outputs": [],
   "source": [
    "y_pred_train = grid_search.best_estimator_.predict(X_train)\n",
    "y_pred_val = grid_search.best_estimator_.predict(X_val)"
   ]
  },
  {
   "cell_type": "code",
   "execution_count": null,
   "id": "e32be874-662d-47e0-be89-4d1653e6b230",
   "metadata": {},
   "outputs": [],
   "source": [
    "grid_search.best_params_"
   ]
  },
  {
   "cell_type": "code",
   "execution_count": null,
   "id": "00f74a47-e186-40c7-a42e-df2ce9cd728c",
   "metadata": {},
   "outputs": [],
   "source": [
    "# Heart age delta (bias)\n",
    "heart_age_delta_train = y_pred_train - y_train\n",
    "heart_age_delta_val = y_pred_val - y_val"
   ]
  },
  {
   "cell_type": "code",
   "execution_count": null,
   "id": "774af81b-f529-4640-84bf-9b181709be3e",
   "metadata": {},
   "outputs": [],
   "source": [
    "# Train Bias Correction Model\n",
    "bias_model = LinearRegression()\n",
    "bias_model.fit(y_train.values.reshape(-1, 1), heart_age_delta_train)"
   ]
  },
  {
   "cell_type": "code",
   "execution_count": null,
   "id": "6a88c65d-354a-40f4-9cef-6f9f6bfc4a2f",
   "metadata": {},
   "outputs": [],
   "source": [
    "# Bias correction parameters\n",
    "beta1 = bias_model.coef_[0]\n",
    "beta0 = bias_model.intercept_"
   ]
  },
  {
   "cell_type": "code",
   "execution_count": null,
   "id": "ab1554bb-3894-4c43-a0f2-e61eba66e098",
   "metadata": {},
   "outputs": [],
   "source": [
    "beta0"
   ]
  },
  {
   "cell_type": "code",
   "execution_count": null,
   "id": "78a574fc-5ed4-4ac1-8444-773599e5aeca",
   "metadata": {},
   "outputs": [],
   "source": [
    "y_pred_train_corrected = y_pred_train - (beta1 * y_train + beta0)"
   ]
  },
  {
   "cell_type": "code",
   "execution_count": null,
   "id": "eaa3c522-b8d8-4e89-bf2d-ffb7ee78d030",
   "metadata": {},
   "outputs": [],
   "source": [
    "y_pred_val_corrected = y_pred_val - (beta1 * y_val + beta0)"
   ]
  },
  {
   "cell_type": "code",
   "execution_count": null,
   "id": "13325f03-7e05-44e2-8422-f5f5fe825073",
   "metadata": {},
   "outputs": [],
   "source": [
    "evaluate_model(y_train, y_pred_train, \"XGBoost (Before Bias Correction)\")"
   ]
  },
  {
   "cell_type": "code",
   "execution_count": null,
   "id": "1a7ac96d-d677-4562-802a-db86eca3c005",
   "metadata": {},
   "outputs": [],
   "source": [
    "# Before correction\n",
    "evaluate_model(y_val, y_pred_val, \"XGBoost (Before Bias Correction)\")"
   ]
  },
  {
   "cell_type": "code",
   "execution_count": null,
   "id": "e49b2503-2050-4c9e-ab33-968e22013545",
   "metadata": {},
   "outputs": [],
   "source": [
    "# After correction\n",
    "evaluate_model(y_val, y_pred_val_corrected, \"XGBoost (After Bias Correction)\")"
   ]
  },
  {
   "cell_type": "code",
   "execution_count": null,
   "id": "94d540a1-5652-4e3c-b60e-df0ae3edcae4",
   "metadata": {},
   "outputs": [],
   "source": [
    "# Compute heart age delta before and after correction\n",
    "heart_age_delta_val_before = y_pred_val - y_val\n",
    "heart_age_delta_val_after = y_pred_val_corrected - y_val"
   ]
  },
  {
   "cell_type": "code",
   "execution_count": null,
   "id": "67fe9ee9-5c56-4a38-854e-2ba534471fc2",
   "metadata": {},
   "outputs": [],
   "source": [
    "corr_pred_actual_before_, _ = pearsonr(y_pred_train, y_train)\n",
    "corr_pred_actual_after_, _ = pearsonr(y_pred_train_corrected, y_train)"
   ]
  },
  {
   "cell_type": "code",
   "execution_count": null,
   "id": "e3a90661-691b-4e84-adde-a78a32fa239b",
   "metadata": {},
   "outputs": [],
   "source": [
    "corr_pred_actual_before, _ = pearsonr(y_pred_val, y_val)\n",
    "corr_pred_actual_after, _ = pearsonr(y_pred_val_corrected, y_val)"
   ]
  },
  {
   "cell_type": "code",
   "execution_count": null,
   "id": "dd8c08e7-bc6b-4859-81f2-b8ecd7416ffd",
   "metadata": {},
   "outputs": [],
   "source": [
    "corr_delta_actual_before, _ = pearsonr(heart_age_delta_val_before, y_val)\n",
    "corr_delta_actual_after, _ = pearsonr(heart_age_delta_val_after,y_val)"
   ]
  },
  {
   "cell_type": "code",
   "execution_count": null,
   "id": "ab525be5-6f49-4492-8886-339d6276054f",
   "metadata": {},
   "outputs": [],
   "source": [
    "# Print correlation results\n",
    "print(\"\\n🔹 Correlation Between Predicted Heart Age & Actual Age:\")\n",
    "print(f\"   Before Correction: {corr_pred_actual_before_:.4f}\")\n",
    "print(f\"   After Correction: {corr_pred_actual_after_:.4f}\")"
   ]
  },
  {
   "cell_type": "code",
   "execution_count": null,
   "id": "7e2904f7-7880-4106-a55b-b43094a325d2",
   "metadata": {},
   "outputs": [],
   "source": [
    "# Print correlation results\n",
    "print(\"\\n🔹 Correlation Between Predicted Heart Age & Actual Age:\")\n",
    "print(f\"   Before Correction: {corr_pred_actual_before:.4f}\")\n",
    "print(f\"   After Correction: {corr_pred_actual_after:.4f}\")"
   ]
  },
  {
   "cell_type": "code",
   "execution_count": null,
   "id": "c32ecb6e-1a31-48db-ab0d-a8860c059dba",
   "metadata": {},
   "outputs": [],
   "source": [
    "print(\"\\n🔹 Correlation Between Heart Age Delta & Actual Age:\")\n",
    "print(f\"   Before Correction: {corr_delta_actual_before:.4f}\")\n",
    "print(f\"   After Correction: {corr_delta_actual_after:.4f}\")"
   ]
  },
  {
   "cell_type": "code",
   "execution_count": null,
   "id": "151017d0-6d34-47f4-b389-75bcf3dde61e",
   "metadata": {},
   "outputs": [],
   "source": [
    "plt.subplot(1, 2, 1)\n",
    "sns.scatterplot(x=y_val, y=heart_age_delta_val_before, alpha=0.5)\n",
    "plt.title(f\"Before Correction (Corr: {corr_delta_actual_before:.4f})\")\n",
    "plt.xlabel(\"Actual Age\")\n",
    "plt.ylabel(\"Heart Age Delta\")"
   ]
  },
  {
   "cell_type": "code",
   "execution_count": null,
   "id": "12d8042a-5581-462f-a83a-be432277fc74",
   "metadata": {},
   "outputs": [],
   "source": [
    "plt.subplot(1, 2, 1)\n",
    "sns.scatterplot(x=y_val, y=heart_age_delta_val_after, alpha=0.5)\n",
    "plt.title(f\"After Correction (Corr: {corr_delta_actual_after:.4f})\")\n",
    "plt.xlabel(\"Actual Age\")\n",
    "plt.ylabel(\"Heart Age Delta\")"
   ]
  },
  {
   "cell_type": "markdown",
   "id": "66b83889-efce-4d7a-af2a-26f13617f5f5",
   "metadata": {},
   "source": [
    "### Test delta heart"
   ]
  },
  {
   "cell_type": "code",
   "execution_count": null,
   "id": "287f630d-250b-4da9-bee2-e6ada577b7a8",
   "metadata": {},
   "outputs": [],
   "source": [
    "y_pred_test_underweight = grid_search.best_estimator_.predict(X_test_underweight)\n",
    "y_pred_test_healthy = grid_search.best_estimator_.predict(X_test_normal_weight)\n",
    "y_pred_test_overweight = grid_search.best_estimator_.predict(X_test_overweight)\n",
    "y_pred_test_obesity = grid_search.best_estimator_.predict(X_test_obesity)\n",
    "y_pred_test_severe_obesity = grid_search.best_estimator_.predict(X_test_severe_obesity)"
   ]
  },
  {
   "cell_type": "code",
   "execution_count": null,
   "id": "fd53573d-161a-42e7-8f46-404e4b103234",
   "metadata": {},
   "outputs": [],
   "source": [
    "y_pred_test_healthy"
   ]
  },
  {
   "cell_type": "code",
   "execution_count": null,
   "id": "13d15f56-0248-466c-8943-2b91aabe7046",
   "metadata": {},
   "outputs": [],
   "source": [
    "# Heart age delta (bias)\n",
    "heart_age_delta_test_underweight = y_pred_test_underweight - y_test_underweight\n",
    "heart_age_delta_test_healthy = y_pred_test_healthy - y_test_normal_weight\n",
    "heart_age_delta_test_overweight = y_pred_test_overweight - y_test_overweight\n",
    "heart_age_delta_test_obesity = y_pred_test_obesity - y_test_obesity\n",
    "heart_age_delta_test_severe_obesity = y_pred_test_severe_obesity - y_test_severe_obesity"
   ]
  },
  {
   "cell_type": "code",
   "execution_count": null,
   "id": "74098a65-83ec-4863-8a3a-1db7cf0029d3",
   "metadata": {},
   "outputs": [],
   "source": [
    "y_pred_test_underweight_corrected = y_pred_test_underweight - (beta1 * y_test_underweight + beta0)\n",
    "y_pred_test_healthy_corrected = y_pred_test_healthy - (beta1 * y_test_normal_weight + beta0)\n",
    "y_pred_test_overweight_corrected = y_pred_test_overweight - (beta1 * y_test_overweight + beta0)\n",
    "y_pred_test_obesity_corrected = y_pred_test_obesity - (beta1 * y_test_obesity + beta0)\n",
    "y_pred_test_severe_obesity_corrected = y_pred_test_severe_obesity - (beta1 * y_test_severe_obesity + beta0)"
   ]
  },
  {
   "cell_type": "code",
   "execution_count": null,
   "id": "b4dbde79-f7ac-4b38-989b-9ed6d7336308",
   "metadata": {},
   "outputs": [],
   "source": [
    "heart_age_delta_test_underweight_after = y_pred_test_underweight_corrected - y_test_underweight\n",
    "heart_age_delta_test_healthy_after = y_pred_test_healthy_corrected - y_test_normal_weight\n",
    "heart_age_delta_test_overweight_after = y_pred_test_overweight_corrected - y_test_overweight\n",
    "heart_age_delta_test_obesity_after = y_pred_test_obesity_corrected - y_test_obesity\n",
    "heart_age_delta_test_severe_obesity_after = y_pred_test_severe_obesity_corrected - y_test_severe_obesity"
   ]
  },
  {
   "cell_type": "markdown",
   "id": "a45100fe-24e5-47d6-8935-43c2c420d2a0",
   "metadata": {},
   "source": [
    "## Features Importance"
   ]
  },
  {
   "cell_type": "code",
   "execution_count": null,
   "id": "49f04095-e045-4c6e-8180-35b30146e4ad",
   "metadata": {},
   "outputs": [],
   "source": [
    "from xgboost import plot_importance"
   ]
  },
  {
   "cell_type": "code",
   "execution_count": null,
   "id": "2625840a-4601-4a67-a3fd-52eca5e84d5c",
   "metadata": {},
   "outputs": [],
   "source": [
    "plt.figure(figsize=(10, 6))\n",
    "ax = plot_importance(grid_search.best_estimator_, max_num_features=10)\n",
    "plt.draw()\n",
    "\n",
    "current_labels = [item.get_text() for item in ax.get_yticklabels()]\n",
    "new_labels = [label.replace('_', ' ').replace(' deconfounded', '') for label in current_labels]\n",
    "ax.set_yticklabels(new_labels)\n",
    "\n",
    "plt.title('Top 10 Most Important Features', fontsize=16)\n",
    "ax.set_ylabel('Features', fontsize=16)  # <- y-axis title and size\n",
    "ax.set_xlabel('F-score', fontsize=16)  # <- x-axis title and size\n",
    "\n",
    "# Color bars based on importance\n",
    "bars = ax.patches\n",
    "importances = np.array([bar.get_width() for bar in bars])\n",
    "norm = plt.Normalize(importances.min(), importances.max())\n",
    "cmap = plt.cm.viridis\n",
    "\n",
    "for bar, importance in zip(bars, importances):\n",
    "    bar.set_color(cmap(norm(importance)))\n",
    "\n",
    "plt.savefig('\\\\Users\\\\Cynthia Maldonado\\\\OneDrive - Queen Mary, University of London\\\\Biological Aging\\\\concept paper\\\\figures\\\\feature_importance_female.png', bbox_inches='tight', dpi=300) \n",
    "\n",
    "plt.show()"
   ]
  },
  {
   "cell_type": "markdown",
   "id": "23f08b59-4020-4844-9cbb-a516d0c7ada8",
   "metadata": {},
   "source": [
    "# Analysis between BMI groups"
   ]
  },
  {
   "cell_type": "code",
   "execution_count": null,
   "id": "be2d7224-2791-494b-a400-959634377843",
   "metadata": {},
   "outputs": [],
   "source": [
    "test_underweight_ = test_underweight[['f.eid', 'obesity_groups', 'age_at_recruitment_visit2']]\n",
    "test_healthy_ = test_normal_weight[['f.eid', 'obesity_groups', 'age_at_recruitment_visit2']]\n",
    "test_overweight_ = test_overweight[['f.eid', 'obesity_groups', 'age_at_recruitment_visit2']]\n",
    "test_obesity_ = test_obesity[['f.eid', 'obesity_groups', 'age_at_recruitment_visit2']]\n",
    "test_severe_obesity_ = test_severe_obesity[['f.eid', 'obesity_groups', 'age_at_recruitment_visit2']]"
   ]
  },
  {
   "cell_type": "code",
   "execution_count": null,
   "id": "0bce0dfd-1b50-4cf9-a6e2-72be22a720ab",
   "metadata": {},
   "outputs": [],
   "source": [
    "delta_underweight = test_underweight_.merge(heart_age_delta_test_underweight_after, left_index=True, right_index=True)\n",
    "delta_healthy = test_healthy_.merge(heart_age_delta_test_healthy_after, left_index=True, right_index=True)\n",
    "delta_overweight = test_overweight_.merge(heart_age_delta_test_overweight_after, left_index=True, right_index=True)\n",
    "delta_obesity = test_obesity_.merge(heart_age_delta_test_obesity_after, left_index=True, right_index=True)\n",
    "delta_severe_obesity = test_severe_obesity_.merge(heart_age_delta_test_severe_obesity_after, left_index=True, right_index=True)"
   ]
  },
  {
   "cell_type": "code",
   "execution_count": null,
   "id": "0032c318-9c33-49d2-b44d-0ac34301340f",
   "metadata": {},
   "outputs": [],
   "source": [
    "heart_age_delta_test_healthy_after"
   ]
  },
  {
   "cell_type": "code",
   "execution_count": null,
   "id": "bed36c1a-31ae-4b38-b9b9-f1af7ea21dca",
   "metadata": {},
   "outputs": [],
   "source": [
    "delta_obesity_merge = pd.concat([delta_underweight, delta_healthy, delta_overweight, delta_obesity, delta_severe_obesity])"
   ]
  },
  {
   "cell_type": "code",
   "execution_count": null,
   "id": "aa60071d-3b64-4488-b789-bf208c47a244",
   "metadata": {},
   "outputs": [],
   "source": [
    "delta_obesity_merge.sort_values(by='f.eid').reset_index(drop=True)"
   ]
  },
  {
   "cell_type": "code",
   "execution_count": null,
   "id": "65f4a917-116c-4e17-aa29-f1bca7aadcbf",
   "metadata": {},
   "outputs": [],
   "source": [
    "delta_obesity_merge['obesity_groups'] = delta_obesity_merge['obesity_groups'].replace('healthy range', 'normal weight')"
   ]
  },
  {
   "cell_type": "code",
   "execution_count": null,
   "id": "5db8e147-bc72-4fd0-89a8-1a2ca94b5e51",
   "metadata": {},
   "outputs": [],
   "source": [
    "delta_obesity_merge['delta'] = delta_obesity_merge['age_at_recruitment_visit2_y']"
   ]
  },
  {
   "cell_type": "code",
   "execution_count": null,
   "id": "964557e1-2c0e-4cdf-a5d6-746aa3e7ff04",
   "metadata": {},
   "outputs": [],
   "source": [
    "delta_obesity_merge = delta_obesity_merge.drop(columns=['age_at_recruitment_visit2_y'])"
   ]
  },
  {
   "cell_type": "code",
   "execution_count": null,
   "id": "831b6104-4e63-4333-aaec-e25d314a6cce",
   "metadata": {},
   "outputs": [],
   "source": [
    "delta_obesity_merge"
   ]
  },
  {
   "cell_type": "code",
   "execution_count": null,
   "id": "1a4afaf8-b5c5-4e4e-a8cd-10ac17c4a155",
   "metadata": {},
   "outputs": [],
   "source": [
    "# Boxplot of Heart Age Delta by obesity groups\n",
    "sns.boxplot(x=delta_obesity_merge['obesity_groups'], y=delta_obesity_merge['delta'])\n",
    "plt.title(\"Distribution of Heart Age Delta for obesity group\")\n",
    "plt.show()\n",
    "\n",
    "# ANOVA (if there is more than 2 groups)\n",
    "anova_result = stats.f_oneway(\n",
    "    delta_obesity_merge[delta_obesity_merge['obesity_groups'] == 'healthy range']['delta'],\n",
    "    delta_obesity_merge[delta_obesity_merge['obesity_groups'] == 'overweight']['delta'],\n",
    "    delta_obesity_merge[delta_obesity_merge['obesity_groups'] == 'obesity']['delta'],\n",
    "    delta_obesity_merge[delta_obesity_merge['obesity_groups'] == 'severe obesity']['delta'],\n",
    "    delta_obesity_merge[delta_obesity_merge['obesity_groups'] == 'underweight']['delta']\n",
    "    \n",
    ")\n",
    "print(\"ANOVA p-value:\", anova_result.pvalue)\n"
   ]
  },
  {
   "cell_type": "code",
   "execution_count": null,
   "id": "c463366e-8dfb-4ba0-aee4-9cbad984ffb7",
   "metadata": {},
   "outputs": [],
   "source": [
    "#Group by obesity and calculate descriptive statistics\n",
    "desc_stats = delta_obesity_merge.groupby('obesity_groups')['delta'].describe()\n",
    "\n",
    "# Select only the most relevant metrics\n",
    "desc_stats = desc_stats[['count', 'mean', 'std', 'min', '50%', 'max']]\n",
    "\n",
    "# Rename columns for better clarity\n",
    "desc_stats.columns = ['Muestras', 'Media', 'Desviación Estándar', 'Mínimo', 'Mediana', 'Máximo']\n",
    "\n",
    "# Display results\n",
    "print(desc_stats)"
   ]
  },
  {
   "cell_type": "code",
   "execution_count": null,
   "id": "7f8e3633-b70a-45a8-8006-a3dbc470ee53",
   "metadata": {},
   "outputs": [],
   "source": [
    "from scipy import stats\n",
    "from statsmodels.stats.multicomp import pairwise_tukeyhsd"
   ]
  },
  {
   "cell_type": "code",
   "execution_count": null,
   "id": "81ab0c80-8372-4a25-bc46-a337380b1107",
   "metadata": {},
   "outputs": [],
   "source": [
    "p_values_dict= {}"
   ]
  },
  {
   "cell_type": "code",
   "execution_count": null,
   "id": "d8b5ec60-8225-42c8-8677-57263954fccd",
   "metadata": {},
   "outputs": [],
   "source": [
    "#Check if there are at least two groups with enough data\n",
    "group_counts = delta_obesity_merge['obesity_groups'].value_counts()\n",
    "# ANOVA\n",
    "groups = [delta_obesity_merge[delta_obesity_merge['obesity_groups'] == group]['delta'] for group in delta_obesity_merge['obesity_groups'].unique()]\n",
    "anova_result = stats.f_oneway(*groups)\n",
    "if not (pd.isna(anova_result.statistic) or pd.isna(anova_result.pvalue)):\n",
    "    print(f\"ANOVA - F: {anova_result.statistic:.3f}, p-value: {anova_result.pvalue:.5f}\")\n",
    "    p_values_dict['delta'] = anova_result.pvalue\n",
    "\n",
    "    print(\"Significant differences found, applying Tukey HSD...\\n\")\n",
    "    tukey_result = pairwise_tukeyhsd(delta_obesity_merge['delta'], delta_obesity_merge['obesity_groups'], alpha=0.05)\n",
    "    print(tukey_result)\n",
    "else:\n",
    "    print(\"ANOVA could not be calculated due to data issues.\\n\")"
   ]
  },
  {
   "cell_type": "code",
   "execution_count": null,
   "id": "425d08ec-c27d-4395-9aad-c42103b6e90d",
   "metadata": {},
   "outputs": [],
   "source": [
    "order = [\"underweight\", \"normal weight\", \"overweight\", \"obesity\", \"severe obesity\"]\n",
    "# Calculate delta mean by obesity groups\n",
    "delta_means = delta_obesity_merge.groupby(\"obesity_groups\")[\"delta\"].mean()\n",
    "# Reorganise obesity groups\n",
    "delta_means = delta_means[order]\n",
    "\n",
    "\n",
    "plt.figure(figsize=(8, 6))\n",
    "delta_means.plot(kind=\"bar\", color=\"skyblue\", edgecolor=\"black\", width=0.7)\n",
    "plt.title(\"Average Heart Age Delta by Obesity Groups\", fontsize=14)\n",
    "plt.xlabel(\"Obesity Groups\", fontsize=12)\n",
    "plt.ylabel(\"Mean Heart Age Delta\", fontsize=12)\n",
    "plt.xticks(rotation=45)\n",
    "plt.savefig('path\\\\mean_heart_age_delta_female.png', bbox_inches='tight', dpi=300) \n",
    "plt.show()"
   ]
  },
  {
   "cell_type": "code",
   "execution_count": null,
   "id": "543f95f8-14c0-453d-ad19-4cf535716af2",
   "metadata": {
    "scrolled": true
   },
   "outputs": [],
   "source": [
    "for group in delta_obesity_merge['obesity_groups'].unique():\n",
    "    subset = delta_obesity_merge[delta_obesity_merge['obesity_groups'] == group]\n",
    "    corr, pval = stats.pearsonr(subset['delta'], subset['age_at_recruitment_visit2_x'])\n",
    "    print(f\"{group} -> Correlación: {corr:.4f}, p-valor: {pval:.4f}\")"
   ]
  },
  {
   "cell_type": "markdown",
   "id": "82ca967b-61cf-4ca7-bbe6-74233f9a9556",
   "metadata": {},
   "source": [
    "# Obesity Clusters"
   ]
  },
  {
   "cell_type": "code",
   "execution_count": null,
   "id": "2809a8de-8490-411f-90fd-46abf1029ef4",
   "metadata": {},
   "outputs": [],
   "source": [
    "# Values of VAT, ASAT and PAT\n",
    "obesity_qc = pd.read_csv('path\\\\obesity_measures.csv')"
   ]
  },
  {
   "cell_type": "code",
   "execution_count": null,
   "id": "5a046941-30c6-418b-a2d3-d1154063f34e",
   "metadata": {},
   "outputs": [],
   "source": [
    "from sklearn.cluster import KMeans\n",
    "from sklearn.preprocessing import StandardScaler"
   ]
  },
  {
   "cell_type": "code",
   "execution_count": null,
   "id": "4fc65ec0-e8f1-4ae1-aee5-81b964646fc6",
   "metadata": {},
   "outputs": [],
   "source": [
    "merge_fat_delta = obesity_qc.merge(delta_obesity_merge)"
   ]
  },
  {
   "cell_type": "code",
   "execution_count": null,
   "id": "8a44bd2e-6839-4b49-be10-fa755cc98066",
   "metadata": {},
   "outputs": [],
   "source": [
    "merge_fat_delta.groupby('obesity_groups')['delta'].describe()"
   ]
  },
  {
   "cell_type": "code",
   "execution_count": null,
   "id": "e265bdb1-53b6-457c-b308-f6cdc67f7618",
   "metadata": {},
   "outputs": [],
   "source": [
    "merge_fat_without_nan = merge_fat_delta.dropna(subset=['f.22407.2.0', 'f.22408.2.0', 'meanArea (cm2)']).reset_index(drop=True)"
   ]
  },
  {
   "cell_type": "code",
   "execution_count": null,
   "id": "f69fbc08-2402-47fe-8a18-b26601da26a0",
   "metadata": {},
   "outputs": [],
   "source": [
    "features_for_clustering = merge_fat_without_nan[['f.22407.2.0', 'f.22408.2.0', 'meanArea (cm2)']]"
   ]
  },
  {
   "cell_type": "code",
   "execution_count": null,
   "id": "78503c75-5e58-4816-b480-2d671dda8c2f",
   "metadata": {},
   "outputs": [],
   "source": [
    "scaler = StandardScaler()\n",
    "X_scaled = scaler.fit_transform(features_for_clustering)"
   ]
  },
  {
   "cell_type": "code",
   "execution_count": null,
   "id": "0ea5753c-517f-4311-b578-73fcc79c2cb1",
   "metadata": {},
   "outputs": [],
   "source": [
    "# Apply K-Means Clustering\n",
    "kmeans = KMeans(n_clusters=2, random_state=1)"
   ]
  },
  {
   "cell_type": "code",
   "execution_count": null,
   "id": "991dcfef-0035-4c00-8002-460080952fe5",
   "metadata": {},
   "outputs": [],
   "source": [
    "merge_fat_without_nan['obesity_cluster'] = kmeans.fit_predict(X_scaled)"
   ]
  },
  {
   "cell_type": "code",
   "execution_count": null,
   "id": "6d717634-b079-468d-ba81-4fdc6ad1672d",
   "metadata": {},
   "outputs": [],
   "source": [
    "cross_tab = pd.crosstab(merge_fat_without_nan['obesity_groups'], merge_fat_without_nan['obesity_cluster'])\n",
    "print(cross_tab)"
   ]
  },
  {
   "cell_type": "code",
   "execution_count": null,
   "id": "e189303b-7e51-40dc-9f9a-ebdd27b718ed",
   "metadata": {},
   "outputs": [],
   "source": [
    "merge_fat_without_nan.groupby('obesity_cluster')[list(features_for_clustering)].agg(['mean', 'std', 'min', 'max'])"
   ]
  },
  {
   "cell_type": "code",
   "execution_count": null,
   "id": "351fe997-07fa-41eb-8934-4b9394f15b0e",
   "metadata": {},
   "outputs": [],
   "source": [
    "order = [\"underweight\", \"healthy range\", \"overweight\", \"obesity\", \"severe obesity\"]\n",
    "# Calculate the mean of delta by obesity group\n",
    "delta_means = merge_fat_without_nan.groupby(\"obesity_cluster\")[\"delta\"].mean()\n",
    "# Reorder the obesity groups according to the defined order\n",
    "delta_means = delta_means[order]\n",
    "plt.figure(figsize=(8, 6))\n",
    "delta_means.plot(kind=\"bar\", color=\"skyblue\", edgecolor=\"black\", width=0.7)\n",
    "plt.title(\"Mean Heart Age Delta by Obesity cluster\", fontsize=14)\n",
    "plt.xlabel(\"Obesity cluster\", fontsize=12)\n",
    "plt.ylabel(\"Mean Heart Age Delta\", fontsize=12)\n",
    "plt.xticks(rotation=45)\n",
    "\n",
    "plt.show()"
   ]
  },
  {
   "cell_type": "code",
   "execution_count": null,
   "id": "8aa81cbb-deb6-4ba3-881d-2f24379f0a06",
   "metadata": {},
   "outputs": [],
   "source": [
    "# Define the order of the obesity groups\n",
    "obesity_order = [\"underweight\", \"normal weight\", \"overweight\", \"obesity\", \"severe obesity\"]\n",
    "\n",
    "# Group by cluster and obesity to count occurrences\n",
    "cluster_obesity_counts = merge_fat_without_nan.groupby(['obesity_cluster', 'obesity_groups']).size().unstack()\n",
    "\n",
    "# Reorder the columns according to the defined order\n",
    "cluster_obesity_counts = cluster_obesity_counts[obesity_order]\n",
    "\n",
    "# Calculate proportions\n",
    "cluster_proportions = cluster_obesity_counts.div(cluster_obesity_counts.sum(axis=1), axis=0)\n",
    "\n",
    "# Define the custom color palette\n",
    "palette_colors = {\n",
    "    \"underweight\": \"#1f77b4\",      # Blue\n",
    "    \"normal weight\": \"#2ca02c\",    # Green\n",
    "    \"overweight\": \"#ff7f0e\",       # Orange\n",
    "    \"obesity\": \"#d62728\",          # Red\n",
    "    \"severe obesity\": \"#9467bd\"    # Purple\n",
    "}\n",
    "\n",
    "# Plot\n",
    "plt.figure(figsize=(10, 6))\n",
    "cluster_proportions.plot(\n",
    "    kind=\"bar\", \n",
    "    stacked=True, \n",
    "    color=[palette_colors[label] for label in obesity_order], \n",
    "    alpha=0.8\n",
    ")\n",
    "plt.title(\"Proportion of Obesity Groups in Each Cluster\")\n",
    "plt.ylabel(\"Proportion\")\n",
    "plt.xlabel(\"Obesity Cluster\")\n",
    "plt.legend(title=\"Obesity Groups\", bbox_to_anchor=(1.05, 1), loc=\"upper left\", borderaxespad=0)\n",
    "plt.xticks(rotation=0)\n",
    "plt.show()"
   ]
  },
  {
   "cell_type": "code",
   "execution_count": null,
   "id": "efd463fb-7728-4a1f-b04c-37c6d3995745",
   "metadata": {},
   "outputs": [],
   "source": [
    "chi2_stat, p_value, dof, expected = stats.chi2_contingency(cluster_obesity_counts.fillna(0))"
   ]
  },
  {
   "cell_type": "code",
   "execution_count": null,
   "id": "26bb52fd-1df1-4817-a4a4-7f260c131826",
   "metadata": {},
   "outputs": [],
   "source": [
    "print(f\"Chi2 Statistic: {chi2_stat:.4f}\")\n",
    "print(f\"P-value: {p_value:}\")\n",
    "\n",
    "# 🔹 Interpretación\n",
    "if p_value < 0.05:\n",
    "    print(\"There is a significant association between the clusters and the obesity groups (reject H0).\")\n",
    "else:\n",
    "    print(\"There is no significant association (fail to reject H0).\")"
   ]
  },
  {
   "cell_type": "code",
   "execution_count": null,
   "id": "472568a9-566e-4916-8499-27c903371740",
   "metadata": {},
   "outputs": [],
   "source": [
    "confounders = ['ethnicity', 'drinking_status', 'physical_moderate', 'smoking_status_numeric', 'age_at_recruitment_visit2']\n",
    "exposure_vars = ['BMI', 'waist_hip_ratio', 'VAT', 'ASAT', 'pericardial', 'waist', 'hip']\n",
    "obesity_groups = ['overweight', 'obesity', 'healthy range', 'severe obesity', 'underweight']"
   ]
  },
  {
   "cell_type": "code",
   "execution_count": null,
   "id": "901a8c46-0349-49c3-b70d-f31f23478a65",
   "metadata": {},
   "outputs": [],
   "source": [
    "results = []\n",
    "\n",
    "# Iterar sobre cada grupo en obesity_groups\n",
    "for group in obesity_groups:\n",
    "    print(f\"\\nProcesando grupo: {group}\")\n",
    "\n",
    "    # Filtrar el DataFrame para el grupo actual\n",
    "    df_group = ml_delta_test_drop_confounders[ml_delta_test_drop_confounders['obesity_groups'] == group].copy()\n",
    "\n",
    "    # Verificar que el grupo tenga suficientes datos\n",
    "    if len(df_group) < 10:  # Evitar problemas con grupos muy pequeños\n",
    "        print(f\"Grupo {group} tiene muy pocos datos ({len(df_group)}). Omitido.\")\n",
    "        continue\n",
    "\n",
    "    # Crear un DataFrame vacío para almacenar exposiciones deconfundadas\n",
    "    deconfounded_exposures = pd.DataFrame(index=df_group.index)\n",
    "\n",
    "    # Regresión para cada variable de exposición\n",
    "    for var in exposure_vars:\n",
    "        X = sm.add_constant(df_group[confounders])  # Matriz de diseño con confusores\n",
    "        y = df_group[var]\n",
    "\n",
    "        # Verificar que no haya NaNs\n",
    "        if X.isnull().any().any() or y.isnull().any():\n",
    "            print(f\"Saltando {var} en grupo {group} por valores NaN\")\n",
    "            continue\n",
    "\n",
    "        # Ajustar el modelo de regresión lineal\n",
    "        model = sm.OLS(y, X).fit()\n",
    "\n",
    "        # Guardar residuos como exposición deconfundada\n",
    "        deconfounded_exposures[var] = model.resid\n",
    "\n",
    "    # Calcular número de pruebas para Bonferroni\n",
    "    num_tests = len(deconfounded_exposures.columns)\n",
    "\n",
    "    # Calcular correlaciones con Heart Age Delta\n",
    "    for var in deconfounded_exposures.columns:\n",
    "        r, p_value = pearsonr(deconfounded_exposures[var], df_group['delta'])\n",
    "\n",
    "        # Aplicar corrección de Bonferroni\n",
    "        bonferroni_p = p_value * num_tests\n",
    "\n",
    "        # Determinar significancia\n",
    "        significant = bonferroni_p < 0.05\n",
    "\n",
    "        # Guardar resultados en la lista\n",
    "        results.append({\n",
    "            'Obesity Group': group,\n",
    "            'Variable': var,\n",
    "            'Pearson_r': r,\n",
    "            'P_value': p_value,\n",
    "            'Bonferroni_P_value': bonferroni_p,\n",
    "            'Significant': significant\n",
    "        })\n",
    "\n",
    "# Convertir la lista en un DataFrame\n",
    "results_df = pd.DataFrame(results)"
   ]
  },
  {
   "cell_type": "code",
   "execution_count": null,
   "id": "797f7d77-e850-49ff-a696-3e416bd774be",
   "metadata": {},
   "outputs": [],
   "source": [
    "results_df"
   ]
  },
  {
   "cell_type": "markdown",
   "id": "624f690c-0d7e-4152-8c96-9ca5f89c9f43",
   "metadata": {},
   "source": []
  },
  {
   "cell_type": "code",
   "execution_count": null,
   "id": "507bfc90-565f-43a2-9179-23d357bf8820",
   "metadata": {},
   "outputs": [],
   "source": []
  },
  {
   "cell_type": "code",
   "execution_count": null,
   "id": "26f86997-0260-47fd-9c07-bbb560ff68b3",
   "metadata": {},
   "outputs": [],
   "source": []
  },
  {
   "cell_type": "code",
   "execution_count": null,
   "id": "9ff9d0d4-22aa-465d-926f-af45ff88100a",
   "metadata": {},
   "outputs": [],
   "source": []
  }
 ],
 "metadata": {
  "kernelspec": {
   "display_name": "Python 3 (ipykernel)",
   "language": "python",
   "name": "python3"
  },
  "language_info": {
   "codemirror_mode": {
    "name": "ipython",
    "version": 3
   },
   "file_extension": ".py",
   "mimetype": "text/x-python",
   "name": "python",
   "nbconvert_exporter": "python",
   "pygments_lexer": "ipython3",
   "version": "3.12.7"
  }
 },
 "nbformat": 4,
 "nbformat_minor": 5
}

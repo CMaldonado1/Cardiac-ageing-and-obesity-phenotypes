{
 "cells": [
  {
   "cell_type": "code",
   "execution_count": null,
   "id": "0e8e9de6-9011-4fa6-af25-c482a6c06b41",
   "metadata": {},
   "outputs": [],
   "source": [
    "import pandas as pd\n",
    "import matplotlib.pyplot as plt\n",
    "import seaborn as sns\n",
    "from ipywidgets import interact, widgets\n",
    "from sklearn.impute import KNNImputer, SimpleImputer\n",
    "from sklearn.experimental import enable_iterative_imputer\n",
    "from sklearn.impute import IterativeImputer, SimpleImputer\n",
    "from sklearn.preprocessing import StandardScaler, MinMaxScaler, OneHotEncoder, LabelEncoder\n",
    "import numpy as np\n",
    "from sklearn.linear_model import LinearRegression\n",
    "from sklearn.model_selection import RandomizedSearchCV, GridSearchCV, train_test_split\n",
    "from sklearn.model_selection import RandomizedSearchCV\n",
    "from sklearn.metrics import mean_absolute_error, mean_squared_error, median_absolute_error, r2_score\n",
    "from sklearn.ensemble import RandomForestRegressor\n",
    "from sklearn.linear_model import BayesianRidge, Lasso, Ridge\n",
    "import xgboost as xgb\n",
    "from scipy.stats import pearsonr"
   ]
  },
  {
   "cell_type": "code",
   "execution_count": null,
   "id": "13623a84-c33a-45df-80da-667c20db554a",
   "metadata": {},
   "outputs": [],
   "source": [
    "cmr_phenotypes_34K = pd.read_csv('path\\\\ukb_cmr_34K.csv')"
   ]
  },
  {
   "cell_type": "code",
   "execution_count": null,
   "id": "50f7dfd4-cd2f-42e1-8bd8-513d744a5325",
   "metadata": {},
   "outputs": [],
   "source": [
    "covariates = pd.read_csv('path\\\\ukb_covariates_34K.csv')"
   ]
  },
  {
   "cell_type": "code",
   "execution_count": null,
   "id": "bbc74955-a0c1-49b3-9671-182a98ab84f5",
   "metadata": {},
   "outputs": [],
   "source": [
    "all_cmr_phenotypes_34K = cmr_phenotypes_34K.drop(columns=['f.eid'])"
   ]
  },
  {
   "cell_type": "markdown",
   "id": "c6bb1bdd-0b93-4207-826b-f81f8243a657",
   "metadata": {},
   "source": [
    "# Preprocess data one hot encoder"
   ]
  },
  {
   "cell_type": "code",
   "execution_count": null,
   "id": "d3292d55-23a9-4862-8e5e-d5b0ff667ba8",
   "metadata": {},
   "outputs": [],
   "source": [
    "covariates.columns"
   ]
  },
  {
   "cell_type": "code",
   "execution_count": null,
   "id": "7d779f25-a056-49e5-a4eb-bb0b6d2d0613",
   "metadata": {},
   "outputs": [],
   "source": [
    "covariates.isna().sum()"
   ]
  },
  {
   "cell_type": "code",
   "execution_count": null,
   "id": "2f7a1bbc-55ac-4093-a69c-766ce9d1c3d5",
   "metadata": {},
   "outputs": [],
   "source": [
    "encoder = LabelEncoder()\n",
    "scaler = StandardScaler()"
   ]
  },
  {
   "cell_type": "code",
   "execution_count": null,
   "id": "f80cb0f0-dcdd-46dd-baa5-aaf117bdb038",
   "metadata": {},
   "outputs": [],
   "source": [
    "covariates['highest_qualification_category_encoded'] = encoder.fit_transform(covariates['highest_qualification_category'])\n",
    "covariates['Sex_encoded'] = encoder.fit_transform(covariates['sex'])\n",
    "covariates['ethnicity_encoded'] = encoder.fit_transform(covariates['ethnicity'])\n",
    "covariates['smoking_status_encoded'] = encoder.fit_transform(covariates['smoking_status'])\n",
    "covariates['drinking_status_encoded'] = encoder.fit_transform(covariates['drinking_status'])"
   ]
  },
  {
   "cell_type": "code",
   "execution_count": null,
   "id": "5c02d3b9-7cab-4acf-a0fa-02d62a25cf06",
   "metadata": {},
   "outputs": [],
   "source": [
    "covariates['age_at_recruitment_visit2_encoded'] = scaler.fit_transform(covariates[['age_at_recruitment_visit2']])"
   ]
  },
  {
   "cell_type": "code",
   "execution_count": null,
   "id": "673cf82e-d5dd-4cc1-b28d-5ca2e1592e04",
   "metadata": {},
   "outputs": [],
   "source": [
    "len(covariates['age_at_recruitment_visit2'].value_counts())"
   ]
  },
  {
   "cell_type": "code",
   "execution_count": null,
   "id": "b540f9b6-aa7b-4d6e-b5ea-cf4aab7b0780",
   "metadata": {},
   "outputs": [],
   "source": [
    "len(covariates['age_at_recruitment_visit2_encoded'].value_counts())"
   ]
  },
  {
   "cell_type": "markdown",
   "id": "984d2620-b24e-471f-806f-c37a899c3c10",
   "metadata": {},
   "source": [
    "# KNN Imputer"
   ]
  },
  {
   "cell_type": "code",
   "execution_count": null,
   "id": "156fe8a2-266c-4e04-aa06-85686a087038",
   "metadata": {},
   "outputs": [],
   "source": [
    "imputer = KNNImputer(n_neighbors=10)\n",
    "data_imputed = imputer.fit_transform(all_cmr_phenotypes_34K)"
   ]
  },
  {
   "cell_type": "code",
   "execution_count": null,
   "id": "8fd8a8ef-4f98-4f6a-9f43-5c3243860198",
   "metadata": {},
   "outputs": [],
   "source": [
    "heart_34K_imputed = pd.DataFrame(data_imputed, columns=all_cmr_phenotypes_34K.columns)"
   ]
  },
  {
   "cell_type": "code",
   "execution_count": null,
   "id": "9f2c5b51-c18a-4a3a-babf-19bac40c94a8",
   "metadata": {},
   "outputs": [],
   "source": [
    "heart_34K_imputed.columns"
   ]
  },
  {
   "cell_type": "code",
   "execution_count": null,
   "id": "683c3556-e864-41ef-bfff-755110d2796f",
   "metadata": {},
   "outputs": [],
   "source": [
    "df_knn_ = pd.concat([cmr_phenotypes_34K['f.eid'], heart_34K_imputed ], axis=1)"
   ]
  },
  {
   "cell_type": "markdown",
   "id": "28f36f37-30ca-410e-85a0-5d6a30339f46",
   "metadata": {},
   "source": [
    "# Deconfound_features"
   ]
  },
  {
   "cell_type": "code",
   "execution_count": null,
   "id": "81524c8f-ff9c-4d25-b7fa-a85f6fe4e526",
   "metadata": {},
   "outputs": [],
   "source": [
    "covariates_ = covariates[['f.eid', 'obesity_groups','Sex_encoded', 'ethnicity_encoded', 'age_at_recruitment_visit2_encoded']]"
   ]
  },
  {
   "cell_type": "code",
   "execution_count": null,
   "id": "29dc92e7-df87-430e-8269-b3d5da739c12",
   "metadata": {},
   "outputs": [],
   "source": [
    "covariates_"
   ]
  },
  {
   "cell_type": "code",
   "execution_count": null,
   "id": "141b0628-80cd-49bf-a905-ee4feed9617a",
   "metadata": {},
   "outputs": [],
   "source": [
    "df_knn_cmr_covariates = df_knn_.merge(covariates_)"
   ]
  },
  {
   "cell_type": "code",
   "execution_count": null,
   "id": "093d45e9-b390-4539-85d5-93ea3c4098aa",
   "metadata": {},
   "outputs": [],
   "source": [
    "df_knn_cmr_covariates#.columns"
   ]
  },
  {
   "cell_type": "code",
   "execution_count": null,
   "id": "a054dab9-dae5-4af6-893d-fd26a38e65ee",
   "metadata": {},
   "outputs": [],
   "source": [
    "def deconfound_feature(feature, sex, ethnic, age):\n",
    "    X = np.column_stack((sex, ethnic, age))  # Independent variables\n",
    "    y = feature  # Dependent variable\n",
    "    \n",
    "    model = LinearRegression()\n",
    "    model.fit(X, y)  # Fit model\n",
    "    \n",
    "    predicted = model.predict(X)  # Get predicted values\n",
    "    residual = y - predicted  # Compute residual (de-confounded feature)\n",
    "    \n",
    "    return residual"
   ]
  },
  {
   "cell_type": "code",
   "execution_count": null,
   "id": "9152786c-db6f-42b5-a466-1a457516aa30",
   "metadata": {},
   "outputs": [],
   "source": [
    "excluded_columns = ['f.eid', 'obesity_groups', 'Sex_encoded', 'ethnicity_encoded', 'age_at_recruitment_visit2_encoded']\n",
    "cmr_features = [col for col in df_knn_cmr_covariates.columns if col not in excluded_columns]"
   ]
  },
  {
   "cell_type": "code",
   "execution_count": null,
   "id": "119f73f8-7b2d-424b-8f04-6fe09733b736",
   "metadata": {},
   "outputs": [],
   "source": [
    "for feature in cmr_features:\n",
    "    df_knn_cmr_covariates[f\"{feature}_deconfounded\"] = deconfound_feature(df_knn_cmr_covariates[feature], df_knn_cmr_covariates['Sex_encoded'], df_knn_cmr_covariates['ethnicity_encoded'], df_knn_cmr_covariates['age_at_recruitment_visit2_encoded'])"
   ]
  },
  {
   "cell_type": "code",
   "execution_count": null,
   "id": "a13b1c6c-9ab5-4496-9951-6fb26b0aa4be",
   "metadata": {},
   "outputs": [],
   "source": [
    "df_knn_cmr_covariates.drop(columns=cmr_features + ['f.eid', 'obesity_groups', 'Sex_encoded', 'ethnicity_encoded', 'age_at_recruitment_visit2_encoded'], inplace=True)"
   ]
  },
  {
   "cell_type": "code",
   "execution_count": null,
   "id": "e9261ac3-61d4-41bd-8355-2b8369e82a4f",
   "metadata": {},
   "outputs": [],
   "source": [
    "features = [f\"{f}_deconfounded\" for f in cmr_features]"
   ]
  },
  {
   "cell_type": "code",
   "execution_count": null,
   "id": "dc50531f-7c2f-4f55-9c9a-26e064e83d55",
   "metadata": {},
   "outputs": [],
   "source": [
    "df_knn_cmr_covariates[features] = scaler.fit_transform(df_knn_cmr_covariates[features])"
   ]
  },
  {
   "cell_type": "code",
   "execution_count": null,
   "id": "bfeaa04e-a4de-407e-9ee0-0cadab528262",
   "metadata": {},
   "outputs": [],
   "source": [
    "df_knn_cmr_covariates"
   ]
  },
  {
   "cell_type": "markdown",
   "id": "abebcde3-45e1-4e26-a3b5-1f3ff1cce68f",
   "metadata": {},
   "source": [
    "# Prepare Train, validation, testing"
   ]
  },
  {
   "cell_type": "code",
   "execution_count": null,
   "id": "3bc219d0-1941-4769-8455-ba90ca771af8",
   "metadata": {},
   "outputs": [],
   "source": [
    "df_merge = covariates.merge(df_knn_cmr_covariates, left_index=True, right_index=True)"
   ]
  },
  {
   "cell_type": "code",
   "execution_count": null,
   "id": "c17f4cd8-d274-4fa4-819d-34220e450df8",
   "metadata": {},
   "outputs": [],
   "source": [
    "df_merge_ = df_merge.drop(columns=['deprivation_index', 'highest_qualification_category', 'smoking_status', 'sex', 'drinking_status', 'physical_moderate', 'physical_vigorous', 'sbp','ethnicity', 'ethnicity_encoded','highest_qualification_category_encoded', 'Sex_encoded','smoking_status_encoded', 'drinking_status_encoded','age_at_recruitment_visit2_encoded'])"
   ]
  },
  {
   "cell_type": "code",
   "execution_count": null,
   "id": "379da03b-e23a-4009-b26d-451a471e8a0e",
   "metadata": {},
   "outputs": [],
   "source": [
    "df_merge_['obesity_groups'].value_counts()"
   ]
  },
  {
   "cell_type": "code",
   "execution_count": null,
   "id": "55247c22-ff22-47e2-9d2d-7b606ee75368",
   "metadata": {},
   "outputs": [],
   "source": [
    "df_test = df_merge_[df_merge_['obesity_groups'] != 'healthy range'].reset_index(drop=True)"
   ]
  },
  {
   "cell_type": "code",
   "execution_count": null,
   "id": "83bc114e-675a-468e-afd5-017eac9535a4",
   "metadata": {},
   "outputs": [],
   "source": [
    "len(df_test)"
   ]
  },
  {
   "cell_type": "code",
   "execution_count": null,
   "id": "247d23cc-4ca6-4fa0-8958-f353ac1745a7",
   "metadata": {},
   "outputs": [],
   "source": [
    "healthy = df_merge_[df_merge_['obesity_groups'] == 'healthy range'].reset_index(drop=True)"
   ]
  },
  {
   "cell_type": "code",
   "execution_count": null,
   "id": "6707d754-53ba-4615-8e5b-92ca1c27a6af",
   "metadata": {},
   "outputs": [],
   "source": [
    "test_healthy = healthy.sample(n=2189, random_state=42).sort_values(by='f.eid').reset_index(drop=True)"
   ]
  },
  {
   "cell_type": "code",
   "execution_count": null,
   "id": "61cd3b1c-1431-4cc5-8ffe-3e6b76042d88",
   "metadata": {},
   "outputs": [],
   "source": [
    "train_healthy = healthy[~healthy['f.eid'].isin(test_healthy['f.eid'])].sort_values(by='f.eid').reset_index(drop=True)"
   ]
  },
  {
   "cell_type": "code",
   "execution_count": null,
   "id": "30b455b1-32e8-4105-9e90-6f816aced4f0",
   "metadata": {},
   "outputs": [],
   "source": [
    "df_all_test = pd.concat([df_test, test_healthy]).sort_values(by='f.eid').reset_index(drop=True)"
   ]
  },
  {
   "cell_type": "code",
   "execution_count": null,
   "id": "43b49f84-e503-4a80-9391-cc769697a7fb",
   "metadata": {},
   "outputs": [],
   "source": [
    "X_test = df_all_test.drop(columns=['f.eid', 'obesity_groups', 'age_at_recruitment_visit2'])\n",
    "y_test = df_all_test['age_at_recruitment_visit2']"
   ]
  },
  {
   "cell_type": "code",
   "execution_count": null,
   "id": "b694d7ac-faba-415e-b826-a1c5445d36ca",
   "metadata": {},
   "outputs": [],
   "source": [
    "X = train_healthy.drop(columns=['f.eid', 'obesity_groups', 'age_at_recruitment_visit2'])"
   ]
  },
  {
   "cell_type": "code",
   "execution_count": null,
   "id": "8e93e281-4ae1-40fc-9cf8-d29935eb2e24",
   "metadata": {},
   "outputs": [],
   "source": [
    "y = train_healthy['age_at_recruitment_visit2']"
   ]
  },
  {
   "cell_type": "code",
   "execution_count": null,
   "id": "7d55f369-8362-4fd1-a65d-e9752f2a8f5e",
   "metadata": {},
   "outputs": [],
   "source": [
    "X_train, X_val, y_train, y_val = train_test_split(X, y, test_size=0.2, random_state=42)"
   ]
  },
  {
   "cell_type": "code",
   "execution_count": null,
   "id": "06f7d8fa-2185-4dc6-9010-9870bc568727",
   "metadata": {},
   "outputs": [],
   "source": [
    "print('X train', X_train.shape)\n",
    "print('X val', X_val.shape)\n",
    "print('X test', X_test.shape)\n",
    "print('Y train', y_train.shape)\n",
    "print('Y val', y_val.shape)\n",
    "print('Y test', y_test.shape)"
   ]
  },
  {
   "cell_type": "markdown",
   "id": "8d71745a-8717-4a3c-ace4-a9468507c6da",
   "metadata": {},
   "source": [
    "# Training Model"
   ]
  },
  {
   "cell_type": "markdown",
   "id": "08b93eec-9237-46d3-80db-a8edd49e8e4d",
   "metadata": {},
   "source": [
    "## Linear regression"
   ]
  },
  {
   "cell_type": "code",
   "execution_count": null,
   "id": "0ff5d0a0-fef1-4789-86d9-e0a274c2b982",
   "metadata": {},
   "outputs": [],
   "source": [
    "scoring_metrics = {\n",
    "    'MAE': 'neg_mean_absolute_error',\n",
    "    'MSE': 'neg_mean_squared_error',\n",
    "    'R2': 'r2'\n",
    "}"
   ]
  },
  {
   "cell_type": "code",
   "execution_count": null,
   "id": "06cb1bf7-ba62-4180-babe-ed1c448cead6",
   "metadata": {},
   "outputs": [],
   "source": [
    "random_grid = {'fit_intercept': [True, False] }"
   ]
  },
  {
   "cell_type": "code",
   "execution_count": null,
   "id": "3277fd0b-3f55-43c2-a891-722cfc86736e",
   "metadata": {},
   "outputs": [],
   "source": [
    "optimized_lg = RandomizedSearchCV(\n",
    "    estimator=LinearRegression(),\n",
    "    param_distributions=random_grid,\n",
    "    n_iter=100,\n",
    "    cv=10,\n",
    "    scoring=scoring_metrics,  # Multiple metrics\n",
    "    refit='MAE',  # Choose which metric to use for selecting the best model\n",
    "    verbose=1,\n",
    "    n_jobs=-1,\n",
    "    return_train_score=True\n",
    ")"
   ]
  },
  {
   "cell_type": "code",
   "execution_count": null,
   "id": "df4af627-d25e-4f0e-94f2-a9fc8ee68def",
   "metadata": {},
   "outputs": [],
   "source": [
    "np.ravel(y)"
   ]
  },
  {
   "cell_type": "code",
   "execution_count": null,
   "id": "eebf0293-fc13-42a2-b9c8-1358981a8e9b",
   "metadata": {},
   "outputs": [],
   "source": [
    "optimized_lg.fit(X, np.ravel(y))"
   ]
  },
  {
   "cell_type": "code",
   "execution_count": null,
   "id": "526a2995-8e2c-46a5-83c5-32750167cb3c",
   "metadata": {},
   "outputs": [],
   "source": [
    "print(\"Best MAE:\", optimized_lg.best_score_)\n",
    "print(\"Best MSE:\", max(optimized_lg.cv_results_['mean_test_MSE']))\n",
    "print(\"Best R2:\", max(optimized_lg.cv_results_['mean_test_R2']))"
   ]
  },
  {
   "cell_type": "code",
   "execution_count": null,
   "id": "a383eb67-a835-4db2-b5b2-5b9ddc73286d",
   "metadata": {},
   "outputs": [],
   "source": [
    "best_model = optimized_lg.best_estimator_\n",
    "y_pred = best_model.predict(X_test)"
   ]
  },
  {
   "cell_type": "code",
   "execution_count": null,
   "id": "16bd6316-9fad-4080-a1ab-7204ac05fcbd",
   "metadata": {},
   "outputs": [],
   "source": [
    "cv_10_lg = optimized_lg.cv_results_\n",
    "results_df_10cv_lg = pd.DataFrame(cv_10_lg)"
   ]
  },
  {
   "cell_type": "code",
   "execution_count": null,
   "id": "3cea82b7-23ad-4b63-ac4e-dbbeea4c65a7",
   "metadata": {},
   "outputs": [],
   "source": [
    "Y_test = y_test.values.flatten()"
   ]
  },
  {
   "cell_type": "code",
   "execution_count": null,
   "id": "b3a86064-a767-4cb9-b017-3a1a8926204d",
   "metadata": {},
   "outputs": [],
   "source": [
    "mae = mean_absolute_error(y_test, y_pred)\n",
    "mse = mean_squared_error(y_test, y_pred)\n",
    "r2 = r2_score(y_test, y_pred)\n",
    "\n",
    "print(f\"Test MAE: {mae:.4f}\")\n",
    "print(f\"Test MSE: {mse:.4f}\")\n",
    "print(f\"Test R²: {r2:.4f}\")"
   ]
  },
  {
   "cell_type": "code",
   "execution_count": null,
   "id": "a1800894-5a8b-4c39-ae48-6272a5dbc749",
   "metadata": {},
   "outputs": [],
   "source": [
    "y_pred_lg"
   ]
  },
  {
   "cell_type": "markdown",
   "id": "48dd0238-5ab5-42af-bfd1-2326ab320849",
   "metadata": {},
   "source": [
    "### Bias correction"
   ]
  },
  {
   "cell_type": "code",
   "execution_count": null,
   "id": "7e151965-aecc-4ca4-8953-617c03fd5b5c",
   "metadata": {},
   "outputs": [],
   "source": [
    "y_pred_train = optimized_lg.best_estimator_.predict(X)\n",
    "y_pred_test = optimized_lg.best_estimator_.predict(X_test)"
   ]
  },
  {
   "cell_type": "code",
   "execution_count": null,
   "id": "44fc60b7-d08a-4da1-b7de-f4ef019f0bbe",
   "metadata": {},
   "outputs": [],
   "source": [
    "# Heart age delta (bias)\n",
    "heart_age_delta_train = y_pred_train - y\n",
    "heart_age_delta_test = y_pred_test - y_test"
   ]
  },
  {
   "cell_type": "code",
   "execution_count": null,
   "id": "62f74ebb-3c5c-4f9f-8341-70ff25fcd8ec",
   "metadata": {},
   "outputs": [],
   "source": [
    "# Train Bias Correction Model\n",
    "bias_model = LinearRegression()\n",
    "bias_model.fit(y.values.reshape(-1, 1), heart_age_delta_train)"
   ]
  },
  {
   "cell_type": "code",
   "execution_count": null,
   "id": "fac4f93e-a7c1-42e3-ba7d-2c801976644b",
   "metadata": {},
   "outputs": [],
   "source": [
    "# Get bias correction parameters\n",
    "beta1 = bias_model.coef_[0]\n",
    "beta0 = bias_model.intercept_"
   ]
  },
  {
   "cell_type": "code",
   "execution_count": null,
   "id": "0d791b99-3e36-4729-acc3-beb023d687f3",
   "metadata": {},
   "outputs": [],
   "source": [
    "# Apply Bias Correction\n",
    "y_pred_test_corrected = y_pred_test - (beta1 * y_test + beta0)"
   ]
  },
  {
   "cell_type": "code",
   "execution_count": null,
   "id": "23f3f2b7-e3e3-4105-b35d-1ee432055f07",
   "metadata": {},
   "outputs": [],
   "source": [
    "def evaluate_model(y_true, y_pred, label=\"Model\"):\n",
    "    mae = mean_absolute_error(y_true, y_pred)\n",
    "    mse = mean_squared_error(y_true, y_pred)\n",
    "    r2 = r2_score(y_true, y_pred)\n",
    "    corr = np.corrcoef(y_true, y_pred)[0, 1]\n",
    "    print(f\"\\n🔹 {label} Results:\")\n",
    "    print(f\"   MAE: {mae:.4f}\")\n",
    "    print(f\"   MSE: {mse:.4f}\")\n",
    "    print(f\"   R²: {r2:.4f}\")\n",
    "    print(f\"   Correlation: {corr:.2f}\")"
   ]
  },
  {
   "cell_type": "code",
   "execution_count": null,
   "id": "d22d7f73-ac2f-4c21-9444-e432f7e9d3dd",
   "metadata": {},
   "outputs": [],
   "source": [
    "# Before correction\n",
    "evaluate_model(y_test, y_pred_test, \"Linear regression (Before Bias Correction)\")"
   ]
  },
  {
   "cell_type": "code",
   "execution_count": null,
   "id": "f827dd31-e990-41ae-b7fd-052c7e7b2766",
   "metadata": {},
   "outputs": [],
   "source": [
    "# After correction\n",
    "evaluate_model(y_test, y_pred_test_corrected, \"Linear regression (After Bias Correction)\")"
   ]
  },
  {
   "cell_type": "code",
   "execution_count": null,
   "id": "cc181fce-a98c-427c-8da4-074b58dbf114",
   "metadata": {},
   "outputs": [],
   "source": [
    "y_pred_train = optimized_lg.best_estimator_.predict(X)\n",
    "y_pred_test = optimized_lg.best_estimator_.predict(X_test)"
   ]
  },
  {
   "cell_type": "code",
   "execution_count": null,
   "id": "f69d05e8-b39f-44e4-9d46-fab0de46f90a",
   "metadata": {},
   "outputs": [],
   "source": [
    "# Compute heart age delta before and after correction\n",
    "heart_age_delta_test_before = y_pred_test - y_test\n",
    "heart_age_delta_test_after = y_pred_test_corrected - y_test"
   ]
  },
  {
   "cell_type": "code",
   "execution_count": null,
   "id": "6027de03-958d-4221-bfa9-1e47899129a8",
   "metadata": {},
   "outputs": [],
   "source": [
    "# Train Bias Correction Model\n",
    "bias_model = LinearRegression()\n",
    "bias_model.fit(y.values.reshape(-1, 1), heart_age_delta_train)"
   ]
  },
  {
   "cell_type": "code",
   "execution_count": null,
   "id": "60f9896e-4760-4574-98d0-709b5e6a5ec7",
   "metadata": {},
   "outputs": [],
   "source": [
    "# Bias correction parameters\n",
    "beta1 = bias_model.coef_[0]\n",
    "beta0 = bias_model.intercept_"
   ]
  },
  {
   "cell_type": "code",
   "execution_count": null,
   "id": "45e00d86-a8cc-414e-b5de-a7b29eb6eae9",
   "metadata": {},
   "outputs": [],
   "source": [
    "beta0"
   ]
  },
  {
   "cell_type": "code",
   "execution_count": null,
   "id": "71a03269-d20c-4101-99c8-0133c171f74e",
   "metadata": {},
   "outputs": [],
   "source": [
    "y_pred_test_corrected = y_pred_test - (beta1 * y_test + beta0)"
   ]
  },
  {
   "cell_type": "code",
   "execution_count": null,
   "id": "ae064ea1-7fb5-4f51-8a4b-988be08e6601",
   "metadata": {},
   "outputs": [],
   "source": [
    "corr_pred_actual_before, _ = pearsonr(y_pred_test, y_test)\n",
    "corr_pred_actual_after, _ = pearsonr(y_pred_test_corrected, y_test)"
   ]
  },
  {
   "cell_type": "code",
   "execution_count": null,
   "id": "12ee5b4e-eb00-4428-af9d-b3eb1173ee4e",
   "metadata": {},
   "outputs": [],
   "source": [
    "corr_delta_actual_before, _ = pearsonr(heart_age_delta_test_before, y_test)\n",
    "corr_delta_actual_after, _ = pearsonr(heart_age_delta_test_after, y_test)"
   ]
  },
  {
   "cell_type": "code",
   "execution_count": null,
   "id": "2918074a-dc27-47ae-a18d-3d82247e2f17",
   "metadata": {},
   "outputs": [],
   "source": [
    "# Print correlation results\n",
    "print(\"\\n🔹 Correlation Between Predicted Heart Age & Actual Age:\")\n",
    "print(f\"   Before Correction: {corr_pred_actual_before:.4f}\")\n",
    "print(f\"   After Correction: {corr_pred_actual_after:.4f}\")"
   ]
  },
  {
   "cell_type": "code",
   "execution_count": null,
   "id": "5ad11961-9113-41e5-bfb8-5373ccf6a40c",
   "metadata": {},
   "outputs": [],
   "source": [
    "print(\"\\n🔹 Correlation Between Heart Age Delta & Actual Age:\")\n",
    "print(f\"   Before Correction: {corr_delta_actual_before:.4f}\")\n",
    "print(f\"   After Correction: {corr_delta_actual_after:.4f}\")"
   ]
  },
  {
   "cell_type": "markdown",
   "id": "f0a4302b-fc46-43cd-80ad-b34228a3a4f8",
   "metadata": {},
   "source": [
    "## Random Forest"
   ]
  },
  {
   "cell_type": "code",
   "execution_count": null,
   "id": "99a2fcc8-3f7f-4780-a3c0-7cac5f6a79d8",
   "metadata": {},
   "outputs": [],
   "source": [
    "random_grid = {\n",
    "    'n_estimators': [10, 50, 100, 200, 500],  # Num of trees\n",
    "    'max_depth': [1, 3, 6, 10, 12],  # maximum depth of the tree\n",
    "    'min_samples_split': [1, 10, 50, 100],  # minimum number of samples required to split an internal node\n",
    "    'min_samples_leaf': [1, 10, 50, 100],  # minimum number of samples required to be at a leaf node\n",
    "    'max_features': ['sqrt', 'log2', None],  # number of features\n",
    "    'bootstrap': [False, True]  # bootstrap samples \n",
    "}"
   ]
  },
  {
   "cell_type": "code",
   "execution_count": null,
   "id": "94132d60-975d-414c-9948-d79f29be6ae3",
   "metadata": {},
   "outputs": [],
   "source": [
    "optimized_rf = RandomizedSearchCV(\n",
    "    estimator=RandomForestRegressor(random_state=42),\n",
    "    param_distributions=random_grid,\n",
    "    n_iter=100,  # Number of iterations\n",
    "    cv=10,  # CV con 10 folds\n",
    "    scoring=scoring_metrics,  # Metrics\n",
    "    refit='MAE', \n",
    "    verbose=1,\n",
    "    n_jobs=-1,\n",
    "    return_train_score=True\n",
    ")"
   ]
  },
  {
   "cell_type": "code",
   "execution_count": null,
   "id": "f62dcf83-b8e8-4200-95d0-325f7a571293",
   "metadata": {},
   "outputs": [],
   "source": [
    "optimized_rf.fit(X_train, np.ravel(y_train))"
   ]
  },
  {
   "cell_type": "code",
   "execution_count": null,
   "id": "3aa4da3c-8465-4c4c-b8a7-98df11130827",
   "metadata": {},
   "outputs": [],
   "source": [
    "optimized_rf.best_params_"
   ]
  },
  {
   "cell_type": "code",
   "execution_count": null,
   "id": "7498eaed-007d-4e9e-b5c5-c9d6b982bb7f",
   "metadata": {},
   "outputs": [],
   "source": [
    "print(\"Best MAE:\", optimized_rf.best_score_)\n",
    "print(\"Best MSE:\", max(optimized_rf.cv_results_['mean_test_MSE']))\n",
    "print(\"Best R2:\", max(optimized_rf.cv_results_['mean_test_R2']))"
   ]
  },
  {
   "cell_type": "code",
   "execution_count": null,
   "id": "679a1f2a-1f16-4264-88b4-3eb5c2c805e4",
   "metadata": {},
   "outputs": [],
   "source": [
    "optimized_rf.cv_results_"
   ]
  },
  {
   "cell_type": "code",
   "execution_count": null,
   "id": "8a2d478f-047f-4694-b4f1-cea1bfa4d44b",
   "metadata": {},
   "outputs": [],
   "source": [
    "print(\"Best MAE:\", optimized_rf.best_score_)\n",
    "print(\"Best MSE:\", max(optimized_rf.cv_results_['mean_train_MSE']))\n",
    "print(\"Best R2:\", max(optimized_rf.cv_results_['mean_train_R2']))"
   ]
  },
  {
   "cell_type": "code",
   "execution_count": null,
   "id": "2baa347f-d513-4a0f-8527-d2e2668821f9",
   "metadata": {},
   "outputs": [],
   "source": [
    "y_pred_train = optimized_rf.best_estimator_.predict(X_train)\n",
    "y_pred_test = optimized_rf.best_estimator_.predict(X_val)"
   ]
  },
  {
   "cell_type": "code",
   "execution_count": null,
   "id": "af38037f-eb23-495f-994b-9efb2241ac8b",
   "metadata": {},
   "outputs": [],
   "source": [
    "# Heart age delta (bias)\n",
    "heart_age_delta_train = y_pred_train - y_train\n",
    "heart_age_delta_test = y_pred_test - y_val"
   ]
  },
  {
   "cell_type": "code",
   "execution_count": null,
   "id": "56237467-42fa-4382-9be6-983e6d1a3d0b",
   "metadata": {},
   "outputs": [],
   "source": [
    "# Train Bias Correction Model\n",
    "bias_model = LinearRegression()\n",
    "bias_model.fit(y_train.values.reshape(-1, 1), heart_age_delta_train)"
   ]
  },
  {
   "cell_type": "code",
   "execution_count": null,
   "id": "2a744d15-8718-4d3c-b9e6-653a997c463a",
   "metadata": {},
   "outputs": [],
   "source": [
    "# Bias correction parameters\n",
    "beta1 = bias_model.coef_[0]\n",
    "beta0 = bias_model.intercept_"
   ]
  },
  {
   "cell_type": "code",
   "execution_count": null,
   "id": "8acfd8f0-64f6-4c14-8ec8-87f3ef96c756",
   "metadata": {},
   "outputs": [],
   "source": [
    "y_pred_test_corrected = y_pred_test - (beta1 * y_val + beta0)"
   ]
  },
  {
   "cell_type": "code",
   "execution_count": null,
   "id": "b7d14250-f38c-4f29-afd3-8954b77955cc",
   "metadata": {},
   "outputs": [],
   "source": [
    "# Compute heart age delta before and after correction\n",
    "heart_age_delta_test_before = y_pred_test - y_val\n",
    "heart_age_delta_test_after = y_pred_test_corrected - y_val"
   ]
  },
  {
   "cell_type": "code",
   "execution_count": null,
   "id": "eaa7047e-5ce7-48ae-897c-dcddce1197cd",
   "metadata": {},
   "outputs": [],
   "source": [
    "corr_pred_actual_before, _ = pearsonr(y_pred_test, y_val)\n",
    "corr_pred_actual_after, _ = pearsonr(y_pred_test_corrected, y_val)\n",
    "corr_delta_actual_before, _ = pearsonr(heart_age_delta_test_before, y_val)\n",
    "corr_delta_actual_after, _ = pearsonr(heart_age_delta_test_after, y_val)"
   ]
  },
  {
   "cell_type": "code",
   "execution_count": null,
   "id": "1ad88511-6942-44be-ba4d-18d65251bc3f",
   "metadata": {},
   "outputs": [],
   "source": [
    "# Print correlation results\n",
    "print(\"\\n🔹 Correlation Between Predicted Heart Age & Actual Age:\")\n",
    "print(f\"   Before Correction: {corr_pred_actual_before:.4f}\")\n",
    "print(f\"   After Correction: {corr_pred_actual_after:.4f}\")\n",
    "print(\"\\n🔹 Correlation Between Heart Age Delta & Actual Age:\")\n",
    "print(f\"   Before Correction: {corr_delta_actual_before:.4f}\")\n",
    "print(f\"   After Correction: {corr_delta_actual_after:.4f}\")"
   ]
  },
  {
   "cell_type": "code",
   "execution_count": null,
   "id": "2b3df7d3-597f-4ff6-9c13-7bd0d7f75ef2",
   "metadata": {},
   "outputs": [],
   "source": [
    "# Before correction\n",
    "evaluate_model(y_train, y_pred_train, \"XGBoost (Before Bias Correction)\")"
   ]
  },
  {
   "cell_type": "code",
   "execution_count": null,
   "id": "793169c4-cdb1-475e-9607-fdc8010b90df",
   "metadata": {},
   "outputs": [],
   "source": [
    "# Before correction\n",
    "evaluate_model(y_val, y_pred_test, \"XGBoost (Before Bias Correction)\")"
   ]
  },
  {
   "cell_type": "code",
   "execution_count": null,
   "id": "7a0e6cc4-9af5-4b8e-9de5-c16211cd70f8",
   "metadata": {},
   "outputs": [],
   "source": [
    "# After correction\n",
    "evaluate_model(y_val, y_pred_test_corrected, \"XGBoost (After Bias Correction)\")"
   ]
  },
  {
   "cell_type": "markdown",
   "id": "da6a92cf-2749-43d9-9aae-86c6a8edf5b8",
   "metadata": {},
   "source": [
    "## BayesianRidge"
   ]
  },
  {
   "cell_type": "code",
   "execution_count": null,
   "id": "3f02af00-7d74-402e-8ffe-58ce32cb69b0",
   "metadata": {},
   "outputs": [],
   "source": [
    "random_grid = {\n",
    "    'alpha_1': np.logspace(-6, -1, 10),\n",
    "    'alpha_2': np.logspace(-6, -1, 10),\n",
    "    'lambda_1': np.logspace(-6, -1, 10),\n",
    "    'lambda_2': np.logspace(-6, -1, 10),  \n",
    "    'tol': [1e-4, 1e-3, 1e-2, 1e-1] \n",
    "}"
   ]
  },
  {
   "cell_type": "code",
   "execution_count": null,
   "id": "784acb35-00a6-4aa5-9aa7-70f79249bd2d",
   "metadata": {},
   "outputs": [],
   "source": [
    "optimized_br = RandomizedSearchCV(\n",
    "    estimator=BayesianRidge(),\n",
    "    param_distributions=random_grid,\n",
    "    n_iter=100,  \n",
    "    cv=10, \n",
    "    scoring=scoring_metrics, \n",
    "    refit='MAE',  \n",
    "    verbose=1,\n",
    "    n_jobs=-1, \n",
    "    return_train_score=True\n",
    ")"
   ]
  },
  {
   "cell_type": "code",
   "execution_count": null,
   "id": "27f303b5-ed70-45b3-a7fe-32eac89fccf1",
   "metadata": {},
   "outputs": [],
   "source": [
    "optimized_br.fit(X, y)"
   ]
  },
  {
   "cell_type": "code",
   "execution_count": null,
   "id": "93a9e5d9-93b3-4019-95b0-51bac91cc86a",
   "metadata": {},
   "outputs": [],
   "source": [
    "print(\"Best MAE:\", optimized_br.best_score_)\n",
    "print(\"Best MSE:\", max(optimized_br.cv_results_['mean_test_MSE']))\n",
    "print(\"Best R2:\", max(optimized_br.cv_results_['mean_test_R2']))"
   ]
  },
  {
   "cell_type": "code",
   "execution_count": null,
   "id": "10f038ad-016d-4393-8cf8-f494b85b7483",
   "metadata": {},
   "outputs": [],
   "source": [
    "y_pred_train = optimized_br.best_estimator_.predict(X)\n",
    "y_pred_test = optimized_br.best_estimator_.predict(X_test)"
   ]
  },
  {
   "cell_type": "code",
   "execution_count": null,
   "id": "63ace1b4-b715-4ce1-aeee-7e6e2cf3240a",
   "metadata": {},
   "outputs": [],
   "source": [
    "# Heart age delta (bias)\n",
    "heart_age_delta_train = y_pred_train - y\n",
    "heart_age_delta_test = y_pred_test - y_test"
   ]
  },
  {
   "cell_type": "code",
   "execution_count": null,
   "id": "ae3ce20e-d243-4d4c-808c-81e6c476e5b6",
   "metadata": {},
   "outputs": [],
   "source": [
    "bias_model = LinearRegression()\n",
    "bias_model.fit(y.values.reshape(-1, 1), heart_age_delta_train)"
   ]
  },
  {
   "cell_type": "code",
   "execution_count": null,
   "id": "ea043e65-4b06-45d7-8ac0-72e090304fa7",
   "metadata": {},
   "outputs": [],
   "source": [
    "# Bias correction parameters\n",
    "beta1 = bias_model.coef_[0]\n",
    "beta0 = bias_model.intercept_"
   ]
  },
  {
   "cell_type": "code",
   "execution_count": null,
   "id": "a16992e3-223b-4f80-8d0b-52d72adb72cd",
   "metadata": {},
   "outputs": [],
   "source": [
    "y_pred_test_corrected = y_pred_test - (beta1 * y_test + beta0)"
   ]
  },
  {
   "cell_type": "code",
   "execution_count": null,
   "id": "4b05e0d5-e8c0-4368-97cf-4afcb6eb3067",
   "metadata": {},
   "outputs": [],
   "source": [
    "corr_pred_actual_before, _ = pearsonr(y_pred_test, y_test)\n",
    "corr_pred_actual_after, _ = pearsonr(y_pred_test_corrected, y_test)"
   ]
  },
  {
   "cell_type": "code",
   "execution_count": null,
   "id": "96701f96-4997-4ed3-bfe3-fdac6321dfb3",
   "metadata": {},
   "outputs": [],
   "source": [
    "corr_delta_actual_before, _ = pearsonr(heart_age_delta_test_before, y_test)\n",
    "corr_delta_actual_after, _ = pearsonr(heart_age_delta_test_after, y_test)"
   ]
  },
  {
   "cell_type": "code",
   "execution_count": null,
   "id": "7e2904f7-7880-4106-a55b-b43094a325d2",
   "metadata": {},
   "outputs": [],
   "source": [
    "# Print correlation results\n",
    "print(\"\\n🔹 Correlation Between Predicted Heart Age & Actual Age:\")\n",
    "print(f\"   Before Correction: {corr_pred_actual_before:.4f}\")\n",
    "print(f\"   After Correction: {corr_pred_actual_after:.4f}\")"
   ]
  },
  {
   "cell_type": "code",
   "execution_count": null,
   "id": "c32ecb6e-1a31-48db-ab0d-a8860c059dba",
   "metadata": {},
   "outputs": [],
   "source": [
    "print(\"\\n🔹 Correlation Between Heart Age Delta & Actual Age:\")\n",
    "print(f\"   Before Correction: {corr_delta_actual_before:.4f}\")\n",
    "print(f\"   After Correction: {corr_delta_actual_after:.4f}\")"
   ]
  },
  {
   "cell_type": "code",
   "execution_count": null,
   "id": "57d0f63a-b3bc-43fa-a6f1-2d7c16c94f86",
   "metadata": {},
   "outputs": [],
   "source": [
    "# Before correction\n",
    "evaluate_model(y_test, y_pred_test, \"XGBoost (Before Bias Correction)\")"
   ]
  },
  {
   "cell_type": "code",
   "execution_count": null,
   "id": "2546bef5-24e7-4807-aaf3-577e495096d1",
   "metadata": {},
   "outputs": [],
   "source": [
    "# After correction\n",
    "evaluate_model(y_test, y_pred_test_corrected, \"XGBoost (After Bias Correction)\")"
   ]
  },
  {
   "cell_type": "markdown",
   "id": "5d64d07c-91a0-4ca7-99c8-bb0add20f18c",
   "metadata": {},
   "source": [
    "## LASSO"
   ]
  },
  {
   "cell_type": "code",
   "execution_count": null,
   "id": "ebbea1fb-7146-43b1-9cc1-38b4b146b093",
   "metadata": {},
   "outputs": [],
   "source": [
    "lasso_grid = {\n",
    "    'alpha': np.logspace(-4, 1, 50)  # Regularization strength\n",
    "}"
   ]
  },
  {
   "cell_type": "code",
   "execution_count": null,
   "id": "8bf1d527-fe8d-409e-92a2-06f752f5fb22",
   "metadata": {},
   "outputs": [],
   "source": [
    "lasso_search = RandomizedSearchCV(\n",
    "    estimator=Lasso(),\n",
    "    param_distributions=lasso_grid,\n",
    "    n_iter=100, \n",
    "    cv=10, \n",
    "    scoring=scoring_metrics,  \n",
    "    refit='MAE',\n",
    "    verbose=1,\n",
    "    n_jobs=-1, \n",
    "    return_train_score=True\n",
    ")\n"
   ]
  },
  {
   "cell_type": "code",
   "execution_count": null,
   "id": "ff715286-a6c8-420d-b013-1582528623ee",
   "metadata": {},
   "outputs": [],
   "source": [
    "lasso_search.fit(X, np.ravel(y))"
   ]
  },
  {
   "cell_type": "code",
   "execution_count": null,
   "id": "7f243f43-bec8-4d4d-ae9b-d4b28b2f4a10",
   "metadata": {},
   "outputs": [],
   "source": [
    "print(\"Best MAE:\", lasso_search.best_score_)\n",
    "print(\"Best MSE:\", max(lasso_search.cv_results_['mean_test_MSE']))\n",
    "print(\"Best R2:\", max(lasso_search.cv_results_['mean_test_R2']))"
   ]
  },
  {
   "cell_type": "code",
   "execution_count": null,
   "id": "8f5a4ed3-1a5f-4b88-a1a5-6d2cc1f55f4d",
   "metadata": {},
   "outputs": [],
   "source": [
    "y_pred_train = lasso_search.best_estimator_.predict(X)\n",
    "y_pred_test = lasso_search.best_estimator_.predict(X_test)"
   ]
  },
  {
   "cell_type": "code",
   "execution_count": null,
   "id": "9069b5d3-de47-4a86-ae1d-c2e45a181f4b",
   "metadata": {},
   "outputs": [],
   "source": [
    "# Heart age delta (bias)\n",
    "heart_age_delta_train = y_pred_train - y\n",
    "heart_age_delta_test = y_pred_test - y_test"
   ]
  },
  {
   "cell_type": "code",
   "execution_count": null,
   "id": "88292f50-df6e-4f7d-afe9-6eaf9684981e",
   "metadata": {},
   "outputs": [],
   "source": [
    "bias_model = LinearRegression()\n",
    "bias_model.fit(y.values.reshape(-1, 1), heart_age_delta_train)"
   ]
  },
  {
   "cell_type": "code",
   "execution_count": null,
   "id": "5d10a271-0593-4047-a6fa-de7d47ddb743",
   "metadata": {},
   "outputs": [],
   "source": [
    "# Bias correction parameters\n",
    "beta1 = bias_model.coef_[0]\n",
    "beta0 = bias_model.intercept_"
   ]
  },
  {
   "cell_type": "code",
   "execution_count": null,
   "id": "6e16a6a2-0f1b-414f-86a6-619fdba938d1",
   "metadata": {},
   "outputs": [],
   "source": [
    "y_pred_test_corrected = y_pred_test - (beta1 * y_test + beta0)"
   ]
  },
  {
   "cell_type": "code",
   "execution_count": null,
   "id": "45475b3f-aa0d-4c4e-a167-52c6e31d354c",
   "metadata": {},
   "outputs": [],
   "source": [
    "# Before correction\n",
    "evaluate_model(y_test, y_pred_test, \"XGBoost (Before Bias Correction)\")"
   ]
  },
  {
   "cell_type": "code",
   "execution_count": null,
   "id": "ca489b28-ae3a-419a-a02c-c4ac046a9263",
   "metadata": {},
   "outputs": [],
   "source": [
    "# After correction\n",
    "evaluate_model(y_test, y_pred_test_corrected, \"XGBoost (After Bias Correction)\")"
   ]
  },
  {
   "cell_type": "code",
   "execution_count": null,
   "id": "4e57dff9-9880-4b5c-a26e-5aca1e708abd",
   "metadata": {},
   "outputs": [],
   "source": [
    "corr_pred_actual_before, _ = pearsonr(y_pred_test, y_test)\n",
    "corr_pred_actual_after, _ = pearsonr(y_pred_test_corrected, y_test)"
   ]
  },
  {
   "cell_type": "code",
   "execution_count": null,
   "id": "049bca2c-6a33-45bf-8831-e09ca1f4d9d1",
   "metadata": {},
   "outputs": [],
   "source": [
    "corr_delta_actual_before, _ = pearsonr(heart_age_delta_test_before, y_test)\n",
    "corr_delta_actual_after, _ = pearsonr(heart_age_delta_test_after, y_test)"
   ]
  },
  {
   "cell_type": "code",
   "execution_count": null,
   "id": "1bcaa7cb-26c1-4e8f-b1d8-42fdea03692a",
   "metadata": {},
   "outputs": [],
   "source": [
    "# Print correlation results\n",
    "print(\"\\n🔹 Correlation Between Predicted Heart Age & Actual Age:\")\n",
    "print(f\"   Before Correction: {corr_pred_actual_before:.4f}\")\n",
    "print(f\"   After Correction: {corr_pred_actual_after:.4f}\")"
   ]
  },
  {
   "cell_type": "code",
   "execution_count": null,
   "id": "0bc9ba9c-f04a-4998-aa4c-2904bdb52f95",
   "metadata": {},
   "outputs": [],
   "source": [
    "print(\"\\n🔹 Correlation Between Heart Age Delta & Actual Age:\")\n",
    "print(f\"   Before Correction: {corr_delta_actual_before:.4f}\")\n",
    "print(f\"   After Correction: {corr_delta_actual_after:.4f}\")"
   ]
  },
  {
   "cell_type": "markdown",
   "id": "7a4666ab-f5a0-4fb4-aedf-867fa52d9bca",
   "metadata": {},
   "source": [
    "## Ridge"
   ]
  },
  {
   "cell_type": "code",
   "execution_count": null,
   "id": "17f71fbe-7072-4e28-ae6c-8d7d4379e70b",
   "metadata": {},
   "outputs": [],
   "source": [
    "ridge_grid = {\n",
    "    'alpha': np.logspace(-4, 1, 50)  # Regularization strength\n",
    "}"
   ]
  },
  {
   "cell_type": "code",
   "execution_count": null,
   "id": "9cd18fcf-214e-475e-933a-a529b820817e",
   "metadata": {},
   "outputs": [],
   "source": [
    "ridge_search = RandomizedSearchCV(\n",
    "    estimator=Ridge(),\n",
    "    param_distributions=ridge_grid,\n",
    "    n_iter=20,\n",
    "    cv=5,\n",
    "    scoring=scoring_metrics,\n",
    "    refit='MAE',\n",
    "    verbose=1,\n",
    "    n_jobs=-1,\n",
    "    return_train_score=True\n",
    ")"
   ]
  },
  {
   "cell_type": "code",
   "execution_count": null,
   "id": "93d2e51e-6f2d-4788-8024-be72f5a7e3d2",
   "metadata": {},
   "outputs": [],
   "source": [
    "ridge_search.fit(X, y)"
   ]
  },
  {
   "cell_type": "code",
   "execution_count": null,
   "id": "0335adea-c9fa-4720-9b42-68433b923773",
   "metadata": {},
   "outputs": [],
   "source": [
    "print(\"Best MAE:\", ridge_search.best_score_)\n",
    "print(\"Best MSE:\", max(ridge_search.cv_results_['mean_test_MSE']))\n",
    "print(\"Best R2:\", max(ridge_search.cv_results_['mean_test_R2']))"
   ]
  },
  {
   "cell_type": "code",
   "execution_count": null,
   "id": "2e5f3fe1-3c70-4741-81ee-fa3499b76ae9",
   "metadata": {},
   "outputs": [],
   "source": [
    "y_pred_ridge = ridge_search.best_estimator_.predict(X_test)"
   ]
  },
  {
   "cell_type": "code",
   "execution_count": null,
   "id": "ff6b1833-b93b-4dbb-b059-0f7c525ea5ee",
   "metadata": {},
   "outputs": [],
   "source": [
    "print(\"Ridge Test MAE:\", mean_absolute_error(y_test, y_pred_ridge))\n",
    "print(\"Ridge Test MSE:\", mean_squared_error(y_test, y_pred_ridge))\n",
    "print(\"Ridge Test R²:\", r2_score(y_test, y_pred_ridge))"
   ]
  }
 ],
 "metadata": {
  "kernelspec": {
   "display_name": "Python 3 (ipykernel)",
   "language": "python",
   "name": "python3"
  },
  "language_info": {
   "codemirror_mode": {
    "name": "ipython",
    "version": 3
   },
   "file_extension": ".py",
   "mimetype": "text/x-python",
   "name": "python",
   "nbconvert_exporter": "python",
   "pygments_lexer": "ipython3",
   "version": "3.12.7"
  }
 },
 "nbformat": 4,
 "nbformat_minor": 5
}
